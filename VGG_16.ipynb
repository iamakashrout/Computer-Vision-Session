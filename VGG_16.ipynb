{
  "nbformat": 4,
  "nbformat_minor": 0,
  "metadata": {
    "colab": {
      "provenance": [],
      "gpuType": "T4"
    },
    "kernelspec": {
      "name": "python3",
      "display_name": "Python 3"
    },
    "language_info": {
      "name": "python"
    },
    "accelerator": "GPU"
  },
  "cells": [
    {
      "cell_type": "code",
      "execution_count": 145,
      "metadata": {
        "colab": {
          "base_uri": "https://localhost:8080/"
        },
        "id": "JHL9wO-Pxlt2",
        "outputId": "beca468e-2ad8-463d-8d30-0e02929b6bed"
      },
      "outputs": [
        {
          "output_type": "stream",
          "name": "stdout",
          "text": [
            "Requirement already satisfied: kaggle in /usr/local/lib/python3.10/dist-packages (1.5.16)\n",
            "Requirement already satisfied: six>=1.10 in /usr/local/lib/python3.10/dist-packages (from kaggle) (1.16.0)\n",
            "Requirement already satisfied: certifi in /usr/local/lib/python3.10/dist-packages (from kaggle) (2023.7.22)\n",
            "Requirement already satisfied: python-dateutil in /usr/local/lib/python3.10/dist-packages (from kaggle) (2.8.2)\n",
            "Requirement already satisfied: requests in /usr/local/lib/python3.10/dist-packages (from kaggle) (2.31.0)\n",
            "Requirement already satisfied: tqdm in /usr/local/lib/python3.10/dist-packages (from kaggle) (4.66.1)\n",
            "Requirement already satisfied: python-slugify in /usr/local/lib/python3.10/dist-packages (from kaggle) (8.0.1)\n",
            "Requirement already satisfied: urllib3 in /usr/local/lib/python3.10/dist-packages (from kaggle) (2.0.7)\n",
            "Requirement already satisfied: bleach in /usr/local/lib/python3.10/dist-packages (from kaggle) (6.1.0)\n",
            "Requirement already satisfied: webencodings in /usr/local/lib/python3.10/dist-packages (from bleach->kaggle) (0.5.1)\n",
            "Requirement already satisfied: text-unidecode>=1.3 in /usr/local/lib/python3.10/dist-packages (from python-slugify->kaggle) (1.3)\n",
            "Requirement already satisfied: charset-normalizer<4,>=2 in /usr/local/lib/python3.10/dist-packages (from requests->kaggle) (3.3.1)\n",
            "Requirement already satisfied: idna<4,>=2.5 in /usr/local/lib/python3.10/dist-packages (from requests->kaggle) (3.4)\n"
          ]
        }
      ],
      "source": [
        "!pip install kaggle"
      ]
    },
    {
      "cell_type": "code",
      "source": [
        "# configuring the path of Kaggle.json file\n",
        "!mkdir -p ~/.kaggle\n",
        "!cp kaggle.json ~/.kaggle/\n",
        "!chmod 600 ~/.kaggle/kaggle.json"
      ],
      "metadata": {
        "id": "GMqyYp1tx3h-"
      },
      "execution_count": 146,
      "outputs": []
    },
    {
      "cell_type": "code",
      "source": [
        "# download dataset\n",
        "!kaggle competitions download -c cifar-10"
      ],
      "metadata": {
        "colab": {
          "base_uri": "https://localhost:8080/"
        },
        "id": "rztWGnS8x6IH",
        "outputId": "8e1e645c-4932-4cf0-8d01-250b0827dbe9"
      },
      "execution_count": 147,
      "outputs": [
        {
          "output_type": "stream",
          "name": "stdout",
          "text": [
            "cifar-10.zip: Skipping, found more recently modified local copy (use --force to force download)\n"
          ]
        }
      ]
    },
    {
      "cell_type": "code",
      "source": [
        "!ls"
      ],
      "metadata": {
        "colab": {
          "base_uri": "https://localhost:8080/"
        },
        "id": "Oj0N-7tizfVg",
        "outputId": "7f547a4d-2b6a-4086-ae1f-7d88ae03fbc2"
      },
      "execution_count": 148,
      "outputs": [
        {
          "output_type": "stream",
          "name": "stdout",
          "text": [
            "cifar-10.zip  sample_data\t    test.7z  train.7z\n",
            "kaggle.json   sampleSubmission.csv  train    trainLabels.csv\n"
          ]
        }
      ]
    },
    {
      "cell_type": "code",
      "source": [
        "# extracting the compessed dataset\n",
        "from zipfile import ZipFile\n",
        "dataset = '/content/cifar-10.zip'\n",
        "\n",
        "with ZipFile(dataset,'r') as zip:\n",
        "  zip.extractall()\n",
        "  print('The dataset is extracted')"
      ],
      "metadata": {
        "colab": {
          "base_uri": "https://localhost:8080/"
        },
        "id": "CJHENNtqzjgO",
        "outputId": "952ff9b5-a6c3-4536-f990-9f49297deaa8"
      },
      "execution_count": 149,
      "outputs": [
        {
          "output_type": "stream",
          "name": "stdout",
          "text": [
            "The dataset is extracted\n"
          ]
        }
      ]
    },
    {
      "cell_type": "code",
      "source": [
        "!ls"
      ],
      "metadata": {
        "colab": {
          "base_uri": "https://localhost:8080/"
        },
        "id": "JLfFKUeyzoYk",
        "outputId": "1c2f101c-babb-45b5-88c9-97b48f58c517"
      },
      "execution_count": 150,
      "outputs": [
        {
          "output_type": "stream",
          "name": "stdout",
          "text": [
            "cifar-10.zip  sample_data\t    test.7z  train.7z\n",
            "kaggle.json   sampleSubmission.csv  train    trainLabels.csv\n"
          ]
        }
      ]
    },
    {
      "cell_type": "code",
      "source": [
        "# for extracting .7z files\n",
        "!pip install py7zr"
      ],
      "metadata": {
        "colab": {
          "base_uri": "https://localhost:8080/"
        },
        "id": "L4fGUdlmzrbr",
        "outputId": "6c3210b5-edda-4fb9-841b-e0477e0edb0f"
      },
      "execution_count": 151,
      "outputs": [
        {
          "output_type": "stream",
          "name": "stdout",
          "text": [
            "Requirement already satisfied: py7zr in /usr/local/lib/python3.10/dist-packages (0.20.6)\n",
            "Requirement already satisfied: texttable in /usr/local/lib/python3.10/dist-packages (from py7zr) (1.7.0)\n",
            "Requirement already satisfied: pycryptodomex>=3.6.6 in /usr/local/lib/python3.10/dist-packages (from py7zr) (3.19.0)\n",
            "Requirement already satisfied: pyzstd>=0.14.4 in /usr/local/lib/python3.10/dist-packages (from py7zr) (0.15.9)\n",
            "Requirement already satisfied: pyppmd<1.1.0,>=0.18.1 in /usr/local/lib/python3.10/dist-packages (from py7zr) (1.0.0)\n",
            "Requirement already satisfied: pybcj>=0.6.0 in /usr/local/lib/python3.10/dist-packages (from py7zr) (1.0.1)\n",
            "Requirement already satisfied: multivolumefile>=0.2.3 in /usr/local/lib/python3.10/dist-packages (from py7zr) (0.2.3)\n",
            "Requirement already satisfied: brotli>=1.0.9 in /usr/local/lib/python3.10/dist-packages (from py7zr) (1.1.0)\n",
            "Requirement already satisfied: inflate64>=0.3.1 in /usr/local/lib/python3.10/dist-packages (from py7zr) (0.3.1)\n",
            "Requirement already satisfied: psutil in /usr/local/lib/python3.10/dist-packages (from py7zr) (5.9.5)\n"
          ]
        }
      ]
    },
    {
      "cell_type": "code",
      "source": [
        "import py7zr\n",
        "\n",
        "archive = py7zr.SevenZipFile('/content/train.7z', mode='r')\n",
        "archive.extractall()     #archive.extractall(path='/content/Training Data')\n",
        "archive.close()"
      ],
      "metadata": {
        "id": "11-XQ2GXzw_e"
      },
      "execution_count": 152,
      "outputs": []
    },
    {
      "cell_type": "code",
      "source": [
        "!ls"
      ],
      "metadata": {
        "colab": {
          "base_uri": "https://localhost:8080/"
        },
        "id": "-fzzj7qpz37g",
        "outputId": "e5403c4a-3957-441b-8861-c15166fed9d4"
      },
      "execution_count": 168,
      "outputs": [
        {
          "output_type": "stream",
          "name": "stdout",
          "text": [
            "cifar-10.zip  sample_data\t    test.7z  train.7z\n",
            "kaggle.json   sampleSubmission.csv  train    trainLabels.csv\n"
          ]
        }
      ]
    },
    {
      "cell_type": "code",
      "source": [
        "# importing required libraries\n",
        "import os\n",
        "import numpy as np\n",
        "import pandas as pd\n",
        "from PIL import Image\n",
        "import matplotlib.pyplot as plt\n",
        "import matplotlib.image as mpimg\n",
        "from sklearn.model_selection import train_test_split"
      ],
      "metadata": {
        "id": "d7Jf134t06Aa"
      },
      "execution_count": 169,
      "outputs": []
    },
    {
      "cell_type": "code",
      "source": [
        "filenames = os.listdir('/content/train')\n",
        "type(filenames)"
      ],
      "metadata": {
        "colab": {
          "base_uri": "https://localhost:8080/"
        },
        "id": "rJSgJ9Nh1ODt",
        "outputId": "6fbbb4ea-8730-47ee-e2e5-2dface5f0555"
      },
      "execution_count": 170,
      "outputs": [
        {
          "output_type": "execute_result",
          "data": {
            "text/plain": [
              "list"
            ]
          },
          "metadata": {},
          "execution_count": 170
        }
      ]
    },
    {
      "cell_type": "code",
      "source": [
        "len(filenames)"
      ],
      "metadata": {
        "colab": {
          "base_uri": "https://localhost:8080/"
        },
        "id": "DZpj6aIr1P8c",
        "outputId": "df7cab1a-326a-40dd-e789-a94be41a44c9"
      },
      "execution_count": 171,
      "outputs": [
        {
          "output_type": "execute_result",
          "data": {
            "text/plain": [
              "50000"
            ]
          },
          "metadata": {},
          "execution_count": 171
        }
      ]
    },
    {
      "cell_type": "code",
      "source": [
        "print(filenames[0:5])\n",
        "print(filenames[-5:])"
      ],
      "metadata": {
        "colab": {
          "base_uri": "https://localhost:8080/"
        },
        "id": "2s7vxa_m1TbM",
        "outputId": "26f60ee4-b77a-48de-f285-85e9276798c6"
      },
      "execution_count": 172,
      "outputs": [
        {
          "output_type": "stream",
          "name": "stdout",
          "text": [
            "['36387.png', '36383.png', '6405.png', '29584.png', '42042.png']\n",
            "['8568.png', '31496.png', '37389.png', '22854.png', '11358.png']\n"
          ]
        }
      ]
    },
    {
      "cell_type": "code",
      "source": [
        "# labels\n",
        "labels_df = pd.read_csv('/content/trainLabels.csv')"
      ],
      "metadata": {
        "id": "jSTDUyLI1Yrg"
      },
      "execution_count": 173,
      "outputs": []
    },
    {
      "cell_type": "code",
      "source": [
        "labels_df.shape"
      ],
      "metadata": {
        "colab": {
          "base_uri": "https://localhost:8080/"
        },
        "id": "O8R-jJje1ief",
        "outputId": "a424cd45-3d95-4f3d-fa95-f4d16f2bc906"
      },
      "execution_count": 174,
      "outputs": [
        {
          "output_type": "execute_result",
          "data": {
            "text/plain": [
              "(50000, 2)"
            ]
          },
          "metadata": {},
          "execution_count": 174
        }
      ]
    },
    {
      "cell_type": "code",
      "source": [
        "labels_df.head()"
      ],
      "metadata": {
        "colab": {
          "base_uri": "https://localhost:8080/",
          "height": 206
        },
        "id": "E-VazStz1kJ-",
        "outputId": "99f45d48-ca19-4e5a-e6bd-bc3f091c0657"
      },
      "execution_count": 175,
      "outputs": [
        {
          "output_type": "execute_result",
          "data": {
            "text/plain": [
              "   id       label\n",
              "0   1        frog\n",
              "1   2       truck\n",
              "2   3       truck\n",
              "3   4        deer\n",
              "4   5  automobile"
            ],
            "text/html": [
              "\n",
              "  <div id=\"df-77f29d66-98c6-447f-9e2b-f1b483d9a5e7\" class=\"colab-df-container\">\n",
              "    <div>\n",
              "<style scoped>\n",
              "    .dataframe tbody tr th:only-of-type {\n",
              "        vertical-align: middle;\n",
              "    }\n",
              "\n",
              "    .dataframe tbody tr th {\n",
              "        vertical-align: top;\n",
              "    }\n",
              "\n",
              "    .dataframe thead th {\n",
              "        text-align: right;\n",
              "    }\n",
              "</style>\n",
              "<table border=\"1\" class=\"dataframe\">\n",
              "  <thead>\n",
              "    <tr style=\"text-align: right;\">\n",
              "      <th></th>\n",
              "      <th>id</th>\n",
              "      <th>label</th>\n",
              "    </tr>\n",
              "  </thead>\n",
              "  <tbody>\n",
              "    <tr>\n",
              "      <th>0</th>\n",
              "      <td>1</td>\n",
              "      <td>frog</td>\n",
              "    </tr>\n",
              "    <tr>\n",
              "      <th>1</th>\n",
              "      <td>2</td>\n",
              "      <td>truck</td>\n",
              "    </tr>\n",
              "    <tr>\n",
              "      <th>2</th>\n",
              "      <td>3</td>\n",
              "      <td>truck</td>\n",
              "    </tr>\n",
              "    <tr>\n",
              "      <th>3</th>\n",
              "      <td>4</td>\n",
              "      <td>deer</td>\n",
              "    </tr>\n",
              "    <tr>\n",
              "      <th>4</th>\n",
              "      <td>5</td>\n",
              "      <td>automobile</td>\n",
              "    </tr>\n",
              "  </tbody>\n",
              "</table>\n",
              "</div>\n",
              "    <div class=\"colab-df-buttons\">\n",
              "\n",
              "  <div class=\"colab-df-container\">\n",
              "    <button class=\"colab-df-convert\" onclick=\"convertToInteractive('df-77f29d66-98c6-447f-9e2b-f1b483d9a5e7')\"\n",
              "            title=\"Convert this dataframe to an interactive table.\"\n",
              "            style=\"display:none;\">\n",
              "\n",
              "  <svg xmlns=\"http://www.w3.org/2000/svg\" height=\"24px\" viewBox=\"0 -960 960 960\">\n",
              "    <path d=\"M120-120v-720h720v720H120Zm60-500h600v-160H180v160Zm220 220h160v-160H400v160Zm0 220h160v-160H400v160ZM180-400h160v-160H180v160Zm440 0h160v-160H620v160ZM180-180h160v-160H180v160Zm440 0h160v-160H620v160Z\"/>\n",
              "  </svg>\n",
              "    </button>\n",
              "\n",
              "  <style>\n",
              "    .colab-df-container {\n",
              "      display:flex;\n",
              "      gap: 12px;\n",
              "    }\n",
              "\n",
              "    .colab-df-convert {\n",
              "      background-color: #E8F0FE;\n",
              "      border: none;\n",
              "      border-radius: 50%;\n",
              "      cursor: pointer;\n",
              "      display: none;\n",
              "      fill: #1967D2;\n",
              "      height: 32px;\n",
              "      padding: 0 0 0 0;\n",
              "      width: 32px;\n",
              "    }\n",
              "\n",
              "    .colab-df-convert:hover {\n",
              "      background-color: #E2EBFA;\n",
              "      box-shadow: 0px 1px 2px rgba(60, 64, 67, 0.3), 0px 1px 3px 1px rgba(60, 64, 67, 0.15);\n",
              "      fill: #174EA6;\n",
              "    }\n",
              "\n",
              "    .colab-df-buttons div {\n",
              "      margin-bottom: 4px;\n",
              "    }\n",
              "\n",
              "    [theme=dark] .colab-df-convert {\n",
              "      background-color: #3B4455;\n",
              "      fill: #D2E3FC;\n",
              "    }\n",
              "\n",
              "    [theme=dark] .colab-df-convert:hover {\n",
              "      background-color: #434B5C;\n",
              "      box-shadow: 0px 1px 3px 1px rgba(0, 0, 0, 0.15);\n",
              "      filter: drop-shadow(0px 1px 2px rgba(0, 0, 0, 0.3));\n",
              "      fill: #FFFFFF;\n",
              "    }\n",
              "  </style>\n",
              "\n",
              "    <script>\n",
              "      const buttonEl =\n",
              "        document.querySelector('#df-77f29d66-98c6-447f-9e2b-f1b483d9a5e7 button.colab-df-convert');\n",
              "      buttonEl.style.display =\n",
              "        google.colab.kernel.accessAllowed ? 'block' : 'none';\n",
              "\n",
              "      async function convertToInteractive(key) {\n",
              "        const element = document.querySelector('#df-77f29d66-98c6-447f-9e2b-f1b483d9a5e7');\n",
              "        const dataTable =\n",
              "          await google.colab.kernel.invokeFunction('convertToInteractive',\n",
              "                                                    [key], {});\n",
              "        if (!dataTable) return;\n",
              "\n",
              "        const docLinkHtml = 'Like what you see? Visit the ' +\n",
              "          '<a target=\"_blank\" href=https://colab.research.google.com/notebooks/data_table.ipynb>data table notebook</a>'\n",
              "          + ' to learn more about interactive tables.';\n",
              "        element.innerHTML = '';\n",
              "        dataTable['output_type'] = 'display_data';\n",
              "        await google.colab.output.renderOutput(dataTable, element);\n",
              "        const docLink = document.createElement('div');\n",
              "        docLink.innerHTML = docLinkHtml;\n",
              "        element.appendChild(docLink);\n",
              "      }\n",
              "    </script>\n",
              "  </div>\n",
              "\n",
              "\n",
              "<div id=\"df-95050ad8-4409-4cae-9671-6a4c222ef8a3\">\n",
              "  <button class=\"colab-df-quickchart\" onclick=\"quickchart('df-95050ad8-4409-4cae-9671-6a4c222ef8a3')\"\n",
              "            title=\"Suggest charts.\"\n",
              "            style=\"display:none;\">\n",
              "\n",
              "<svg xmlns=\"http://www.w3.org/2000/svg\" height=\"24px\"viewBox=\"0 0 24 24\"\n",
              "     width=\"24px\">\n",
              "    <g>\n",
              "        <path d=\"M19 3H5c-1.1 0-2 .9-2 2v14c0 1.1.9 2 2 2h14c1.1 0 2-.9 2-2V5c0-1.1-.9-2-2-2zM9 17H7v-7h2v7zm4 0h-2V7h2v10zm4 0h-2v-4h2v4z\"/>\n",
              "    </g>\n",
              "</svg>\n",
              "  </button>\n",
              "\n",
              "<style>\n",
              "  .colab-df-quickchart {\n",
              "      --bg-color: #E8F0FE;\n",
              "      --fill-color: #1967D2;\n",
              "      --hover-bg-color: #E2EBFA;\n",
              "      --hover-fill-color: #174EA6;\n",
              "      --disabled-fill-color: #AAA;\n",
              "      --disabled-bg-color: #DDD;\n",
              "  }\n",
              "\n",
              "  [theme=dark] .colab-df-quickchart {\n",
              "      --bg-color: #3B4455;\n",
              "      --fill-color: #D2E3FC;\n",
              "      --hover-bg-color: #434B5C;\n",
              "      --hover-fill-color: #FFFFFF;\n",
              "      --disabled-bg-color: #3B4455;\n",
              "      --disabled-fill-color: #666;\n",
              "  }\n",
              "\n",
              "  .colab-df-quickchart {\n",
              "    background-color: var(--bg-color);\n",
              "    border: none;\n",
              "    border-radius: 50%;\n",
              "    cursor: pointer;\n",
              "    display: none;\n",
              "    fill: var(--fill-color);\n",
              "    height: 32px;\n",
              "    padding: 0;\n",
              "    width: 32px;\n",
              "  }\n",
              "\n",
              "  .colab-df-quickchart:hover {\n",
              "    background-color: var(--hover-bg-color);\n",
              "    box-shadow: 0 1px 2px rgba(60, 64, 67, 0.3), 0 1px 3px 1px rgba(60, 64, 67, 0.15);\n",
              "    fill: var(--button-hover-fill-color);\n",
              "  }\n",
              "\n",
              "  .colab-df-quickchart-complete:disabled,\n",
              "  .colab-df-quickchart-complete:disabled:hover {\n",
              "    background-color: var(--disabled-bg-color);\n",
              "    fill: var(--disabled-fill-color);\n",
              "    box-shadow: none;\n",
              "  }\n",
              "\n",
              "  .colab-df-spinner {\n",
              "    border: 2px solid var(--fill-color);\n",
              "    border-color: transparent;\n",
              "    border-bottom-color: var(--fill-color);\n",
              "    animation:\n",
              "      spin 1s steps(1) infinite;\n",
              "  }\n",
              "\n",
              "  @keyframes spin {\n",
              "    0% {\n",
              "      border-color: transparent;\n",
              "      border-bottom-color: var(--fill-color);\n",
              "      border-left-color: var(--fill-color);\n",
              "    }\n",
              "    20% {\n",
              "      border-color: transparent;\n",
              "      border-left-color: var(--fill-color);\n",
              "      border-top-color: var(--fill-color);\n",
              "    }\n",
              "    30% {\n",
              "      border-color: transparent;\n",
              "      border-left-color: var(--fill-color);\n",
              "      border-top-color: var(--fill-color);\n",
              "      border-right-color: var(--fill-color);\n",
              "    }\n",
              "    40% {\n",
              "      border-color: transparent;\n",
              "      border-right-color: var(--fill-color);\n",
              "      border-top-color: var(--fill-color);\n",
              "    }\n",
              "    60% {\n",
              "      border-color: transparent;\n",
              "      border-right-color: var(--fill-color);\n",
              "    }\n",
              "    80% {\n",
              "      border-color: transparent;\n",
              "      border-right-color: var(--fill-color);\n",
              "      border-bottom-color: var(--fill-color);\n",
              "    }\n",
              "    90% {\n",
              "      border-color: transparent;\n",
              "      border-bottom-color: var(--fill-color);\n",
              "    }\n",
              "  }\n",
              "</style>\n",
              "\n",
              "  <script>\n",
              "    async function quickchart(key) {\n",
              "      const quickchartButtonEl =\n",
              "        document.querySelector('#' + key + ' button');\n",
              "      quickchartButtonEl.disabled = true;  // To prevent multiple clicks.\n",
              "      quickchartButtonEl.classList.add('colab-df-spinner');\n",
              "      try {\n",
              "        const charts = await google.colab.kernel.invokeFunction(\n",
              "            'suggestCharts', [key], {});\n",
              "      } catch (error) {\n",
              "        console.error('Error during call to suggestCharts:', error);\n",
              "      }\n",
              "      quickchartButtonEl.classList.remove('colab-df-spinner');\n",
              "      quickchartButtonEl.classList.add('colab-df-quickchart-complete');\n",
              "    }\n",
              "    (() => {\n",
              "      let quickchartButtonEl =\n",
              "        document.querySelector('#df-95050ad8-4409-4cae-9671-6a4c222ef8a3 button');\n",
              "      quickchartButtonEl.style.display =\n",
              "        google.colab.kernel.accessAllowed ? 'block' : 'none';\n",
              "    })();\n",
              "  </script>\n",
              "</div>\n",
              "    </div>\n",
              "  </div>\n"
            ]
          },
          "metadata": {},
          "execution_count": 175
        }
      ]
    },
    {
      "cell_type": "code",
      "source": [
        "labels_df.head(10)"
      ],
      "metadata": {
        "colab": {
          "base_uri": "https://localhost:8080/",
          "height": 363
        },
        "id": "j4LsjEkc1qL3",
        "outputId": "ab1daedc-c016-4fc8-e1cb-ce4b94c36e98"
      },
      "execution_count": 176,
      "outputs": [
        {
          "output_type": "execute_result",
          "data": {
            "text/plain": [
              "   id       label\n",
              "0   1        frog\n",
              "1   2       truck\n",
              "2   3       truck\n",
              "3   4        deer\n",
              "4   5  automobile\n",
              "5   6  automobile\n",
              "6   7        bird\n",
              "7   8       horse\n",
              "8   9        ship\n",
              "9  10         cat"
            ],
            "text/html": [
              "\n",
              "  <div id=\"df-f3f8b331-22ed-4ca5-8f64-03ff5830b308\" class=\"colab-df-container\">\n",
              "    <div>\n",
              "<style scoped>\n",
              "    .dataframe tbody tr th:only-of-type {\n",
              "        vertical-align: middle;\n",
              "    }\n",
              "\n",
              "    .dataframe tbody tr th {\n",
              "        vertical-align: top;\n",
              "    }\n",
              "\n",
              "    .dataframe thead th {\n",
              "        text-align: right;\n",
              "    }\n",
              "</style>\n",
              "<table border=\"1\" class=\"dataframe\">\n",
              "  <thead>\n",
              "    <tr style=\"text-align: right;\">\n",
              "      <th></th>\n",
              "      <th>id</th>\n",
              "      <th>label</th>\n",
              "    </tr>\n",
              "  </thead>\n",
              "  <tbody>\n",
              "    <tr>\n",
              "      <th>0</th>\n",
              "      <td>1</td>\n",
              "      <td>frog</td>\n",
              "    </tr>\n",
              "    <tr>\n",
              "      <th>1</th>\n",
              "      <td>2</td>\n",
              "      <td>truck</td>\n",
              "    </tr>\n",
              "    <tr>\n",
              "      <th>2</th>\n",
              "      <td>3</td>\n",
              "      <td>truck</td>\n",
              "    </tr>\n",
              "    <tr>\n",
              "      <th>3</th>\n",
              "      <td>4</td>\n",
              "      <td>deer</td>\n",
              "    </tr>\n",
              "    <tr>\n",
              "      <th>4</th>\n",
              "      <td>5</td>\n",
              "      <td>automobile</td>\n",
              "    </tr>\n",
              "    <tr>\n",
              "      <th>5</th>\n",
              "      <td>6</td>\n",
              "      <td>automobile</td>\n",
              "    </tr>\n",
              "    <tr>\n",
              "      <th>6</th>\n",
              "      <td>7</td>\n",
              "      <td>bird</td>\n",
              "    </tr>\n",
              "    <tr>\n",
              "      <th>7</th>\n",
              "      <td>8</td>\n",
              "      <td>horse</td>\n",
              "    </tr>\n",
              "    <tr>\n",
              "      <th>8</th>\n",
              "      <td>9</td>\n",
              "      <td>ship</td>\n",
              "    </tr>\n",
              "    <tr>\n",
              "      <th>9</th>\n",
              "      <td>10</td>\n",
              "      <td>cat</td>\n",
              "    </tr>\n",
              "  </tbody>\n",
              "</table>\n",
              "</div>\n",
              "    <div class=\"colab-df-buttons\">\n",
              "\n",
              "  <div class=\"colab-df-container\">\n",
              "    <button class=\"colab-df-convert\" onclick=\"convertToInteractive('df-f3f8b331-22ed-4ca5-8f64-03ff5830b308')\"\n",
              "            title=\"Convert this dataframe to an interactive table.\"\n",
              "            style=\"display:none;\">\n",
              "\n",
              "  <svg xmlns=\"http://www.w3.org/2000/svg\" height=\"24px\" viewBox=\"0 -960 960 960\">\n",
              "    <path d=\"M120-120v-720h720v720H120Zm60-500h600v-160H180v160Zm220 220h160v-160H400v160Zm0 220h160v-160H400v160ZM180-400h160v-160H180v160Zm440 0h160v-160H620v160ZM180-180h160v-160H180v160Zm440 0h160v-160H620v160Z\"/>\n",
              "  </svg>\n",
              "    </button>\n",
              "\n",
              "  <style>\n",
              "    .colab-df-container {\n",
              "      display:flex;\n",
              "      gap: 12px;\n",
              "    }\n",
              "\n",
              "    .colab-df-convert {\n",
              "      background-color: #E8F0FE;\n",
              "      border: none;\n",
              "      border-radius: 50%;\n",
              "      cursor: pointer;\n",
              "      display: none;\n",
              "      fill: #1967D2;\n",
              "      height: 32px;\n",
              "      padding: 0 0 0 0;\n",
              "      width: 32px;\n",
              "    }\n",
              "\n",
              "    .colab-df-convert:hover {\n",
              "      background-color: #E2EBFA;\n",
              "      box-shadow: 0px 1px 2px rgba(60, 64, 67, 0.3), 0px 1px 3px 1px rgba(60, 64, 67, 0.15);\n",
              "      fill: #174EA6;\n",
              "    }\n",
              "\n",
              "    .colab-df-buttons div {\n",
              "      margin-bottom: 4px;\n",
              "    }\n",
              "\n",
              "    [theme=dark] .colab-df-convert {\n",
              "      background-color: #3B4455;\n",
              "      fill: #D2E3FC;\n",
              "    }\n",
              "\n",
              "    [theme=dark] .colab-df-convert:hover {\n",
              "      background-color: #434B5C;\n",
              "      box-shadow: 0px 1px 3px 1px rgba(0, 0, 0, 0.15);\n",
              "      filter: drop-shadow(0px 1px 2px rgba(0, 0, 0, 0.3));\n",
              "      fill: #FFFFFF;\n",
              "    }\n",
              "  </style>\n",
              "\n",
              "    <script>\n",
              "      const buttonEl =\n",
              "        document.querySelector('#df-f3f8b331-22ed-4ca5-8f64-03ff5830b308 button.colab-df-convert');\n",
              "      buttonEl.style.display =\n",
              "        google.colab.kernel.accessAllowed ? 'block' : 'none';\n",
              "\n",
              "      async function convertToInteractive(key) {\n",
              "        const element = document.querySelector('#df-f3f8b331-22ed-4ca5-8f64-03ff5830b308');\n",
              "        const dataTable =\n",
              "          await google.colab.kernel.invokeFunction('convertToInteractive',\n",
              "                                                    [key], {});\n",
              "        if (!dataTable) return;\n",
              "\n",
              "        const docLinkHtml = 'Like what you see? Visit the ' +\n",
              "          '<a target=\"_blank\" href=https://colab.research.google.com/notebooks/data_table.ipynb>data table notebook</a>'\n",
              "          + ' to learn more about interactive tables.';\n",
              "        element.innerHTML = '';\n",
              "        dataTable['output_type'] = 'display_data';\n",
              "        await google.colab.output.renderOutput(dataTable, element);\n",
              "        const docLink = document.createElement('div');\n",
              "        docLink.innerHTML = docLinkHtml;\n",
              "        element.appendChild(docLink);\n",
              "      }\n",
              "    </script>\n",
              "  </div>\n",
              "\n",
              "\n",
              "<div id=\"df-c0d73b84-af71-40df-8459-30df4e1ee1cc\">\n",
              "  <button class=\"colab-df-quickchart\" onclick=\"quickchart('df-c0d73b84-af71-40df-8459-30df4e1ee1cc')\"\n",
              "            title=\"Suggest charts.\"\n",
              "            style=\"display:none;\">\n",
              "\n",
              "<svg xmlns=\"http://www.w3.org/2000/svg\" height=\"24px\"viewBox=\"0 0 24 24\"\n",
              "     width=\"24px\">\n",
              "    <g>\n",
              "        <path d=\"M19 3H5c-1.1 0-2 .9-2 2v14c0 1.1.9 2 2 2h14c1.1 0 2-.9 2-2V5c0-1.1-.9-2-2-2zM9 17H7v-7h2v7zm4 0h-2V7h2v10zm4 0h-2v-4h2v4z\"/>\n",
              "    </g>\n",
              "</svg>\n",
              "  </button>\n",
              "\n",
              "<style>\n",
              "  .colab-df-quickchart {\n",
              "      --bg-color: #E8F0FE;\n",
              "      --fill-color: #1967D2;\n",
              "      --hover-bg-color: #E2EBFA;\n",
              "      --hover-fill-color: #174EA6;\n",
              "      --disabled-fill-color: #AAA;\n",
              "      --disabled-bg-color: #DDD;\n",
              "  }\n",
              "\n",
              "  [theme=dark] .colab-df-quickchart {\n",
              "      --bg-color: #3B4455;\n",
              "      --fill-color: #D2E3FC;\n",
              "      --hover-bg-color: #434B5C;\n",
              "      --hover-fill-color: #FFFFFF;\n",
              "      --disabled-bg-color: #3B4455;\n",
              "      --disabled-fill-color: #666;\n",
              "  }\n",
              "\n",
              "  .colab-df-quickchart {\n",
              "    background-color: var(--bg-color);\n",
              "    border: none;\n",
              "    border-radius: 50%;\n",
              "    cursor: pointer;\n",
              "    display: none;\n",
              "    fill: var(--fill-color);\n",
              "    height: 32px;\n",
              "    padding: 0;\n",
              "    width: 32px;\n",
              "  }\n",
              "\n",
              "  .colab-df-quickchart:hover {\n",
              "    background-color: var(--hover-bg-color);\n",
              "    box-shadow: 0 1px 2px rgba(60, 64, 67, 0.3), 0 1px 3px 1px rgba(60, 64, 67, 0.15);\n",
              "    fill: var(--button-hover-fill-color);\n",
              "  }\n",
              "\n",
              "  .colab-df-quickchart-complete:disabled,\n",
              "  .colab-df-quickchart-complete:disabled:hover {\n",
              "    background-color: var(--disabled-bg-color);\n",
              "    fill: var(--disabled-fill-color);\n",
              "    box-shadow: none;\n",
              "  }\n",
              "\n",
              "  .colab-df-spinner {\n",
              "    border: 2px solid var(--fill-color);\n",
              "    border-color: transparent;\n",
              "    border-bottom-color: var(--fill-color);\n",
              "    animation:\n",
              "      spin 1s steps(1) infinite;\n",
              "  }\n",
              "\n",
              "  @keyframes spin {\n",
              "    0% {\n",
              "      border-color: transparent;\n",
              "      border-bottom-color: var(--fill-color);\n",
              "      border-left-color: var(--fill-color);\n",
              "    }\n",
              "    20% {\n",
              "      border-color: transparent;\n",
              "      border-left-color: var(--fill-color);\n",
              "      border-top-color: var(--fill-color);\n",
              "    }\n",
              "    30% {\n",
              "      border-color: transparent;\n",
              "      border-left-color: var(--fill-color);\n",
              "      border-top-color: var(--fill-color);\n",
              "      border-right-color: var(--fill-color);\n",
              "    }\n",
              "    40% {\n",
              "      border-color: transparent;\n",
              "      border-right-color: var(--fill-color);\n",
              "      border-top-color: var(--fill-color);\n",
              "    }\n",
              "    60% {\n",
              "      border-color: transparent;\n",
              "      border-right-color: var(--fill-color);\n",
              "    }\n",
              "    80% {\n",
              "      border-color: transparent;\n",
              "      border-right-color: var(--fill-color);\n",
              "      border-bottom-color: var(--fill-color);\n",
              "    }\n",
              "    90% {\n",
              "      border-color: transparent;\n",
              "      border-bottom-color: var(--fill-color);\n",
              "    }\n",
              "  }\n",
              "</style>\n",
              "\n",
              "  <script>\n",
              "    async function quickchart(key) {\n",
              "      const quickchartButtonEl =\n",
              "        document.querySelector('#' + key + ' button');\n",
              "      quickchartButtonEl.disabled = true;  // To prevent multiple clicks.\n",
              "      quickchartButtonEl.classList.add('colab-df-spinner');\n",
              "      try {\n",
              "        const charts = await google.colab.kernel.invokeFunction(\n",
              "            'suggestCharts', [key], {});\n",
              "      } catch (error) {\n",
              "        console.error('Error during call to suggestCharts:', error);\n",
              "      }\n",
              "      quickchartButtonEl.classList.remove('colab-df-spinner');\n",
              "      quickchartButtonEl.classList.add('colab-df-quickchart-complete');\n",
              "    }\n",
              "    (() => {\n",
              "      let quickchartButtonEl =\n",
              "        document.querySelector('#df-c0d73b84-af71-40df-8459-30df4e1ee1cc button');\n",
              "      quickchartButtonEl.style.display =\n",
              "        google.colab.kernel.accessAllowed ? 'block' : 'none';\n",
              "    })();\n",
              "  </script>\n",
              "</div>\n",
              "    </div>\n",
              "  </div>\n"
            ]
          },
          "metadata": {},
          "execution_count": 176
        }
      ]
    },
    {
      "cell_type": "code",
      "source": [
        "labels_df.tail(10)"
      ],
      "metadata": {
        "colab": {
          "base_uri": "https://localhost:8080/",
          "height": 363
        },
        "id": "m_k7Jkee1zXh",
        "outputId": "8c4ce4ea-9b3a-4b11-ce7b-cc66ef6a17ee"
      },
      "execution_count": 177,
      "outputs": [
        {
          "output_type": "execute_result",
          "data": {
            "text/plain": [
              "          id       label\n",
              "49990  49991        deer\n",
              "49991  49992        bird\n",
              "49992  49993    airplane\n",
              "49993  49994  automobile\n",
              "49994  49995    airplane\n",
              "49995  49996        bird\n",
              "49996  49997        frog\n",
              "49997  49998       truck\n",
              "49998  49999  automobile\n",
              "49999  50000  automobile"
            ],
            "text/html": [
              "\n",
              "  <div id=\"df-6e810000-e005-48b0-8c8a-081ffb291353\" class=\"colab-df-container\">\n",
              "    <div>\n",
              "<style scoped>\n",
              "    .dataframe tbody tr th:only-of-type {\n",
              "        vertical-align: middle;\n",
              "    }\n",
              "\n",
              "    .dataframe tbody tr th {\n",
              "        vertical-align: top;\n",
              "    }\n",
              "\n",
              "    .dataframe thead th {\n",
              "        text-align: right;\n",
              "    }\n",
              "</style>\n",
              "<table border=\"1\" class=\"dataframe\">\n",
              "  <thead>\n",
              "    <tr style=\"text-align: right;\">\n",
              "      <th></th>\n",
              "      <th>id</th>\n",
              "      <th>label</th>\n",
              "    </tr>\n",
              "  </thead>\n",
              "  <tbody>\n",
              "    <tr>\n",
              "      <th>49990</th>\n",
              "      <td>49991</td>\n",
              "      <td>deer</td>\n",
              "    </tr>\n",
              "    <tr>\n",
              "      <th>49991</th>\n",
              "      <td>49992</td>\n",
              "      <td>bird</td>\n",
              "    </tr>\n",
              "    <tr>\n",
              "      <th>49992</th>\n",
              "      <td>49993</td>\n",
              "      <td>airplane</td>\n",
              "    </tr>\n",
              "    <tr>\n",
              "      <th>49993</th>\n",
              "      <td>49994</td>\n",
              "      <td>automobile</td>\n",
              "    </tr>\n",
              "    <tr>\n",
              "      <th>49994</th>\n",
              "      <td>49995</td>\n",
              "      <td>airplane</td>\n",
              "    </tr>\n",
              "    <tr>\n",
              "      <th>49995</th>\n",
              "      <td>49996</td>\n",
              "      <td>bird</td>\n",
              "    </tr>\n",
              "    <tr>\n",
              "      <th>49996</th>\n",
              "      <td>49997</td>\n",
              "      <td>frog</td>\n",
              "    </tr>\n",
              "    <tr>\n",
              "      <th>49997</th>\n",
              "      <td>49998</td>\n",
              "      <td>truck</td>\n",
              "    </tr>\n",
              "    <tr>\n",
              "      <th>49998</th>\n",
              "      <td>49999</td>\n",
              "      <td>automobile</td>\n",
              "    </tr>\n",
              "    <tr>\n",
              "      <th>49999</th>\n",
              "      <td>50000</td>\n",
              "      <td>automobile</td>\n",
              "    </tr>\n",
              "  </tbody>\n",
              "</table>\n",
              "</div>\n",
              "    <div class=\"colab-df-buttons\">\n",
              "\n",
              "  <div class=\"colab-df-container\">\n",
              "    <button class=\"colab-df-convert\" onclick=\"convertToInteractive('df-6e810000-e005-48b0-8c8a-081ffb291353')\"\n",
              "            title=\"Convert this dataframe to an interactive table.\"\n",
              "            style=\"display:none;\">\n",
              "\n",
              "  <svg xmlns=\"http://www.w3.org/2000/svg\" height=\"24px\" viewBox=\"0 -960 960 960\">\n",
              "    <path d=\"M120-120v-720h720v720H120Zm60-500h600v-160H180v160Zm220 220h160v-160H400v160Zm0 220h160v-160H400v160ZM180-400h160v-160H180v160Zm440 0h160v-160H620v160ZM180-180h160v-160H180v160Zm440 0h160v-160H620v160Z\"/>\n",
              "  </svg>\n",
              "    </button>\n",
              "\n",
              "  <style>\n",
              "    .colab-df-container {\n",
              "      display:flex;\n",
              "      gap: 12px;\n",
              "    }\n",
              "\n",
              "    .colab-df-convert {\n",
              "      background-color: #E8F0FE;\n",
              "      border: none;\n",
              "      border-radius: 50%;\n",
              "      cursor: pointer;\n",
              "      display: none;\n",
              "      fill: #1967D2;\n",
              "      height: 32px;\n",
              "      padding: 0 0 0 0;\n",
              "      width: 32px;\n",
              "    }\n",
              "\n",
              "    .colab-df-convert:hover {\n",
              "      background-color: #E2EBFA;\n",
              "      box-shadow: 0px 1px 2px rgba(60, 64, 67, 0.3), 0px 1px 3px 1px rgba(60, 64, 67, 0.15);\n",
              "      fill: #174EA6;\n",
              "    }\n",
              "\n",
              "    .colab-df-buttons div {\n",
              "      margin-bottom: 4px;\n",
              "    }\n",
              "\n",
              "    [theme=dark] .colab-df-convert {\n",
              "      background-color: #3B4455;\n",
              "      fill: #D2E3FC;\n",
              "    }\n",
              "\n",
              "    [theme=dark] .colab-df-convert:hover {\n",
              "      background-color: #434B5C;\n",
              "      box-shadow: 0px 1px 3px 1px rgba(0, 0, 0, 0.15);\n",
              "      filter: drop-shadow(0px 1px 2px rgba(0, 0, 0, 0.3));\n",
              "      fill: #FFFFFF;\n",
              "    }\n",
              "  </style>\n",
              "\n",
              "    <script>\n",
              "      const buttonEl =\n",
              "        document.querySelector('#df-6e810000-e005-48b0-8c8a-081ffb291353 button.colab-df-convert');\n",
              "      buttonEl.style.display =\n",
              "        google.colab.kernel.accessAllowed ? 'block' : 'none';\n",
              "\n",
              "      async function convertToInteractive(key) {\n",
              "        const element = document.querySelector('#df-6e810000-e005-48b0-8c8a-081ffb291353');\n",
              "        const dataTable =\n",
              "          await google.colab.kernel.invokeFunction('convertToInteractive',\n",
              "                                                    [key], {});\n",
              "        if (!dataTable) return;\n",
              "\n",
              "        const docLinkHtml = 'Like what you see? Visit the ' +\n",
              "          '<a target=\"_blank\" href=https://colab.research.google.com/notebooks/data_table.ipynb>data table notebook</a>'\n",
              "          + ' to learn more about interactive tables.';\n",
              "        element.innerHTML = '';\n",
              "        dataTable['output_type'] = 'display_data';\n",
              "        await google.colab.output.renderOutput(dataTable, element);\n",
              "        const docLink = document.createElement('div');\n",
              "        docLink.innerHTML = docLinkHtml;\n",
              "        element.appendChild(docLink);\n",
              "      }\n",
              "    </script>\n",
              "  </div>\n",
              "\n",
              "\n",
              "<div id=\"df-9a2913e3-4459-426e-9dca-95f06d76ceeb\">\n",
              "  <button class=\"colab-df-quickchart\" onclick=\"quickchart('df-9a2913e3-4459-426e-9dca-95f06d76ceeb')\"\n",
              "            title=\"Suggest charts.\"\n",
              "            style=\"display:none;\">\n",
              "\n",
              "<svg xmlns=\"http://www.w3.org/2000/svg\" height=\"24px\"viewBox=\"0 0 24 24\"\n",
              "     width=\"24px\">\n",
              "    <g>\n",
              "        <path d=\"M19 3H5c-1.1 0-2 .9-2 2v14c0 1.1.9 2 2 2h14c1.1 0 2-.9 2-2V5c0-1.1-.9-2-2-2zM9 17H7v-7h2v7zm4 0h-2V7h2v10zm4 0h-2v-4h2v4z\"/>\n",
              "    </g>\n",
              "</svg>\n",
              "  </button>\n",
              "\n",
              "<style>\n",
              "  .colab-df-quickchart {\n",
              "      --bg-color: #E8F0FE;\n",
              "      --fill-color: #1967D2;\n",
              "      --hover-bg-color: #E2EBFA;\n",
              "      --hover-fill-color: #174EA6;\n",
              "      --disabled-fill-color: #AAA;\n",
              "      --disabled-bg-color: #DDD;\n",
              "  }\n",
              "\n",
              "  [theme=dark] .colab-df-quickchart {\n",
              "      --bg-color: #3B4455;\n",
              "      --fill-color: #D2E3FC;\n",
              "      --hover-bg-color: #434B5C;\n",
              "      --hover-fill-color: #FFFFFF;\n",
              "      --disabled-bg-color: #3B4455;\n",
              "      --disabled-fill-color: #666;\n",
              "  }\n",
              "\n",
              "  .colab-df-quickchart {\n",
              "    background-color: var(--bg-color);\n",
              "    border: none;\n",
              "    border-radius: 50%;\n",
              "    cursor: pointer;\n",
              "    display: none;\n",
              "    fill: var(--fill-color);\n",
              "    height: 32px;\n",
              "    padding: 0;\n",
              "    width: 32px;\n",
              "  }\n",
              "\n",
              "  .colab-df-quickchart:hover {\n",
              "    background-color: var(--hover-bg-color);\n",
              "    box-shadow: 0 1px 2px rgba(60, 64, 67, 0.3), 0 1px 3px 1px rgba(60, 64, 67, 0.15);\n",
              "    fill: var(--button-hover-fill-color);\n",
              "  }\n",
              "\n",
              "  .colab-df-quickchart-complete:disabled,\n",
              "  .colab-df-quickchart-complete:disabled:hover {\n",
              "    background-color: var(--disabled-bg-color);\n",
              "    fill: var(--disabled-fill-color);\n",
              "    box-shadow: none;\n",
              "  }\n",
              "\n",
              "  .colab-df-spinner {\n",
              "    border: 2px solid var(--fill-color);\n",
              "    border-color: transparent;\n",
              "    border-bottom-color: var(--fill-color);\n",
              "    animation:\n",
              "      spin 1s steps(1) infinite;\n",
              "  }\n",
              "\n",
              "  @keyframes spin {\n",
              "    0% {\n",
              "      border-color: transparent;\n",
              "      border-bottom-color: var(--fill-color);\n",
              "      border-left-color: var(--fill-color);\n",
              "    }\n",
              "    20% {\n",
              "      border-color: transparent;\n",
              "      border-left-color: var(--fill-color);\n",
              "      border-top-color: var(--fill-color);\n",
              "    }\n",
              "    30% {\n",
              "      border-color: transparent;\n",
              "      border-left-color: var(--fill-color);\n",
              "      border-top-color: var(--fill-color);\n",
              "      border-right-color: var(--fill-color);\n",
              "    }\n",
              "    40% {\n",
              "      border-color: transparent;\n",
              "      border-right-color: var(--fill-color);\n",
              "      border-top-color: var(--fill-color);\n",
              "    }\n",
              "    60% {\n",
              "      border-color: transparent;\n",
              "      border-right-color: var(--fill-color);\n",
              "    }\n",
              "    80% {\n",
              "      border-color: transparent;\n",
              "      border-right-color: var(--fill-color);\n",
              "      border-bottom-color: var(--fill-color);\n",
              "    }\n",
              "    90% {\n",
              "      border-color: transparent;\n",
              "      border-bottom-color: var(--fill-color);\n",
              "    }\n",
              "  }\n",
              "</style>\n",
              "\n",
              "  <script>\n",
              "    async function quickchart(key) {\n",
              "      const quickchartButtonEl =\n",
              "        document.querySelector('#' + key + ' button');\n",
              "      quickchartButtonEl.disabled = true;  // To prevent multiple clicks.\n",
              "      quickchartButtonEl.classList.add('colab-df-spinner');\n",
              "      try {\n",
              "        const charts = await google.colab.kernel.invokeFunction(\n",
              "            'suggestCharts', [key], {});\n",
              "      } catch (error) {\n",
              "        console.error('Error during call to suggestCharts:', error);\n",
              "      }\n",
              "      quickchartButtonEl.classList.remove('colab-df-spinner');\n",
              "      quickchartButtonEl.classList.add('colab-df-quickchart-complete');\n",
              "    }\n",
              "    (() => {\n",
              "      let quickchartButtonEl =\n",
              "        document.querySelector('#df-9a2913e3-4459-426e-9dca-95f06d76ceeb button');\n",
              "      quickchartButtonEl.style.display =\n",
              "        google.colab.kernel.accessAllowed ? 'block' : 'none';\n",
              "    })();\n",
              "  </script>\n",
              "</div>\n",
              "    </div>\n",
              "  </div>\n"
            ]
          },
          "metadata": {},
          "execution_count": 177
        }
      ]
    },
    {
      "cell_type": "code",
      "source": [
        "labels_df[labels_df['id'] == 3580]"
      ],
      "metadata": {
        "colab": {
          "base_uri": "https://localhost:8080/",
          "height": 81
        },
        "id": "ElMnfiub1tnf",
        "outputId": "c94a7d58-6a7e-4fbb-f7fa-7683d1dc59e3"
      },
      "execution_count": 178,
      "outputs": [
        {
          "output_type": "execute_result",
          "data": {
            "text/plain": [
              "        id label\n",
              "3579  3580  ship"
            ],
            "text/html": [
              "\n",
              "  <div id=\"df-fb9ba587-0869-4b31-8d30-018aacfd5f7c\" class=\"colab-df-container\">\n",
              "    <div>\n",
              "<style scoped>\n",
              "    .dataframe tbody tr th:only-of-type {\n",
              "        vertical-align: middle;\n",
              "    }\n",
              "\n",
              "    .dataframe tbody tr th {\n",
              "        vertical-align: top;\n",
              "    }\n",
              "\n",
              "    .dataframe thead th {\n",
              "        text-align: right;\n",
              "    }\n",
              "</style>\n",
              "<table border=\"1\" class=\"dataframe\">\n",
              "  <thead>\n",
              "    <tr style=\"text-align: right;\">\n",
              "      <th></th>\n",
              "      <th>id</th>\n",
              "      <th>label</th>\n",
              "    </tr>\n",
              "  </thead>\n",
              "  <tbody>\n",
              "    <tr>\n",
              "      <th>3579</th>\n",
              "      <td>3580</td>\n",
              "      <td>ship</td>\n",
              "    </tr>\n",
              "  </tbody>\n",
              "</table>\n",
              "</div>\n",
              "    <div class=\"colab-df-buttons\">\n",
              "\n",
              "  <div class=\"colab-df-container\">\n",
              "    <button class=\"colab-df-convert\" onclick=\"convertToInteractive('df-fb9ba587-0869-4b31-8d30-018aacfd5f7c')\"\n",
              "            title=\"Convert this dataframe to an interactive table.\"\n",
              "            style=\"display:none;\">\n",
              "\n",
              "  <svg xmlns=\"http://www.w3.org/2000/svg\" height=\"24px\" viewBox=\"0 -960 960 960\">\n",
              "    <path d=\"M120-120v-720h720v720H120Zm60-500h600v-160H180v160Zm220 220h160v-160H400v160Zm0 220h160v-160H400v160ZM180-400h160v-160H180v160Zm440 0h160v-160H620v160ZM180-180h160v-160H180v160Zm440 0h160v-160H620v160Z\"/>\n",
              "  </svg>\n",
              "    </button>\n",
              "\n",
              "  <style>\n",
              "    .colab-df-container {\n",
              "      display:flex;\n",
              "      gap: 12px;\n",
              "    }\n",
              "\n",
              "    .colab-df-convert {\n",
              "      background-color: #E8F0FE;\n",
              "      border: none;\n",
              "      border-radius: 50%;\n",
              "      cursor: pointer;\n",
              "      display: none;\n",
              "      fill: #1967D2;\n",
              "      height: 32px;\n",
              "      padding: 0 0 0 0;\n",
              "      width: 32px;\n",
              "    }\n",
              "\n",
              "    .colab-df-convert:hover {\n",
              "      background-color: #E2EBFA;\n",
              "      box-shadow: 0px 1px 2px rgba(60, 64, 67, 0.3), 0px 1px 3px 1px rgba(60, 64, 67, 0.15);\n",
              "      fill: #174EA6;\n",
              "    }\n",
              "\n",
              "    .colab-df-buttons div {\n",
              "      margin-bottom: 4px;\n",
              "    }\n",
              "\n",
              "    [theme=dark] .colab-df-convert {\n",
              "      background-color: #3B4455;\n",
              "      fill: #D2E3FC;\n",
              "    }\n",
              "\n",
              "    [theme=dark] .colab-df-convert:hover {\n",
              "      background-color: #434B5C;\n",
              "      box-shadow: 0px 1px 3px 1px rgba(0, 0, 0, 0.15);\n",
              "      filter: drop-shadow(0px 1px 2px rgba(0, 0, 0, 0.3));\n",
              "      fill: #FFFFFF;\n",
              "    }\n",
              "  </style>\n",
              "\n",
              "    <script>\n",
              "      const buttonEl =\n",
              "        document.querySelector('#df-fb9ba587-0869-4b31-8d30-018aacfd5f7c button.colab-df-convert');\n",
              "      buttonEl.style.display =\n",
              "        google.colab.kernel.accessAllowed ? 'block' : 'none';\n",
              "\n",
              "      async function convertToInteractive(key) {\n",
              "        const element = document.querySelector('#df-fb9ba587-0869-4b31-8d30-018aacfd5f7c');\n",
              "        const dataTable =\n",
              "          await google.colab.kernel.invokeFunction('convertToInteractive',\n",
              "                                                    [key], {});\n",
              "        if (!dataTable) return;\n",
              "\n",
              "        const docLinkHtml = 'Like what you see? Visit the ' +\n",
              "          '<a target=\"_blank\" href=https://colab.research.google.com/notebooks/data_table.ipynb>data table notebook</a>'\n",
              "          + ' to learn more about interactive tables.';\n",
              "        element.innerHTML = '';\n",
              "        dataTable['output_type'] = 'display_data';\n",
              "        await google.colab.output.renderOutput(dataTable, element);\n",
              "        const docLink = document.createElement('div');\n",
              "        docLink.innerHTML = docLinkHtml;\n",
              "        element.appendChild(docLink);\n",
              "      }\n",
              "    </script>\n",
              "  </div>\n",
              "\n",
              "    </div>\n",
              "  </div>\n"
            ]
          },
          "metadata": {},
          "execution_count": 178
        }
      ]
    },
    {
      "cell_type": "code",
      "source": [
        "labels_df['label'].value_counts()"
      ],
      "metadata": {
        "colab": {
          "base_uri": "https://localhost:8080/"
        },
        "id": "tH2hZw3P1v9B",
        "outputId": "0fcce6d1-d1fe-4dfd-ce57-7ec1ff8cdf6d"
      },
      "execution_count": 179,
      "outputs": [
        {
          "output_type": "execute_result",
          "data": {
            "text/plain": [
              "frog          5000\n",
              "truck         5000\n",
              "deer          5000\n",
              "automobile    5000\n",
              "bird          5000\n",
              "horse         5000\n",
              "ship          5000\n",
              "cat           5000\n",
              "dog           5000\n",
              "airplane      5000\n",
              "Name: label, dtype: int64"
            ]
          },
          "metadata": {},
          "execution_count": 179
        }
      ]
    },
    {
      "cell_type": "code",
      "source": [
        "labels_df['label']"
      ],
      "metadata": {
        "colab": {
          "base_uri": "https://localhost:8080/"
        },
        "id": "SphVAoOU12_6",
        "outputId": "6d591ec4-a6b5-4de8-f4b5-e5f6769f5202"
      },
      "execution_count": 180,
      "outputs": [
        {
          "output_type": "execute_result",
          "data": {
            "text/plain": [
              "0              frog\n",
              "1             truck\n",
              "2             truck\n",
              "3              deer\n",
              "4        automobile\n",
              "            ...    \n",
              "49995          bird\n",
              "49996          frog\n",
              "49997         truck\n",
              "49998    automobile\n",
              "49999    automobile\n",
              "Name: label, Length: 50000, dtype: object"
            ]
          },
          "metadata": {},
          "execution_count": 180
        }
      ]
    },
    {
      "cell_type": "code",
      "source": [
        "# encoding the labels to numeric form\n",
        "\n",
        "labels_dictionary = {'airplane':0, 'automobile':1, 'bird':2, 'cat':3, 'deer':4, 'dog':5, 'frog':6, 'horse':7, 'ship':8, 'truck':9}\n",
        "\n",
        "labels = [labels_dictionary[i] for i in labels_df['label']]"
      ],
      "metadata": {
        "id": "RWkB8wMT16B2"
      },
      "execution_count": 181,
      "outputs": []
    },
    {
      "cell_type": "code",
      "source": [
        "print(labels[0:5])\n",
        "print(labels[-5:])"
      ],
      "metadata": {
        "colab": {
          "base_uri": "https://localhost:8080/"
        },
        "id": "X1tH3fBU1_0G",
        "outputId": "4a3d01b3-9c83-45ea-b65b-e0370a55d60b"
      },
      "execution_count": 182,
      "outputs": [
        {
          "output_type": "stream",
          "name": "stdout",
          "text": [
            "[6, 9, 9, 4, 1]\n",
            "[2, 6, 9, 1, 1]\n"
          ]
        }
      ]
    },
    {
      "cell_type": "code",
      "source": [
        "# displaying sample images\n",
        "import cv2\n",
        "from google.colab.patches import cv2_imshow\n",
        "\n",
        "img = cv2.imread('/content/train/3580.png')\n",
        "cv2_imshow(img)"
      ],
      "metadata": {
        "colab": {
          "base_uri": "https://localhost:8080/",
          "height": 49
        },
        "id": "XPRieed12Bv2",
        "outputId": "c7427a8c-f9ed-4c56-e191-b2ec52de97d2"
      },
      "execution_count": 183,
      "outputs": [
        {
          "output_type": "display_data",
          "data": {
            "text/plain": [
              "<PIL.Image.Image image mode=RGB size=32x32>"
            ],
            "image/png": "[encoded data removed]"
          },
          "metadata": {}
        }
      ]
    },
    {
      "cell_type": "code",
      "source": [
        "img = cv2.imread('/content/train/8035.png')\n",
        "cv2_imshow(img)"
      ],
      "metadata": {
        "colab": {
          "base_uri": "https://localhost:8080/",
          "height": 49
        },
        "id": "ZfDUgC4h2GLq",
        "outputId": "2447b456-8d43-41dc-aa2e-54efeb6a7751"
      },
      "execution_count": 184,
      "outputs": [
        {
          "output_type": "display_data",
          "data": {
            "text/plain": [
              "<PIL.Image.Image image mode=RGB size=32x32>"
            ],
            "image/png": "[encoded data removed]"
          },
          "metadata": {}
        }
      ]
    },
    {
      "cell_type": "code",
      "source": [
        "labels_df[labels_df['id'] == 8035]"
      ],
      "metadata": {
        "id": "A4OG_FVQ2JS5",
        "colab": {
          "base_uri": "https://localhost:8080/",
          "height": 81
        },
        "outputId": "9cd6e5ca-6bb7-419f-a9d2-dfe5234f69b1"
      },
      "execution_count": 185,
      "outputs": [
        {
          "output_type": "execute_result",
          "data": {
            "text/plain": [
              "        id label\n",
              "8034  8035  frog"
            ],
            "text/html": [
              "\n",
              "  <div id=\"df-9ecc89bb-d9b8-460b-b8cd-828283cb8b0e\" class=\"colab-df-container\">\n",
              "    <div>\n",
              "<style scoped>\n",
              "    .dataframe tbody tr th:only-of-type {\n",
              "        vertical-align: middle;\n",
              "    }\n",
              "\n",
              "    .dataframe tbody tr th {\n",
              "        vertical-align: top;\n",
              "    }\n",
              "\n",
              "    .dataframe thead th {\n",
              "        text-align: right;\n",
              "    }\n",
              "</style>\n",
              "<table border=\"1\" class=\"dataframe\">\n",
              "  <thead>\n",
              "    <tr style=\"text-align: right;\">\n",
              "      <th></th>\n",
              "      <th>id</th>\n",
              "      <th>label</th>\n",
              "    </tr>\n",
              "  </thead>\n",
              "  <tbody>\n",
              "    <tr>\n",
              "      <th>8034</th>\n",
              "      <td>8035</td>\n",
              "      <td>frog</td>\n",
              "    </tr>\n",
              "  </tbody>\n",
              "</table>\n",
              "</div>\n",
              "    <div class=\"colab-df-buttons\">\n",
              "\n",
              "  <div class=\"colab-df-container\">\n",
              "    <button class=\"colab-df-convert\" onclick=\"convertToInteractive('df-9ecc89bb-d9b8-460b-b8cd-828283cb8b0e')\"\n",
              "            title=\"Convert this dataframe to an interactive table.\"\n",
              "            style=\"display:none;\">\n",
              "\n",
              "  <svg xmlns=\"http://www.w3.org/2000/svg\" height=\"24px\" viewBox=\"0 -960 960 960\">\n",
              "    <path d=\"M120-120v-720h720v720H120Zm60-500h600v-160H180v160Zm220 220h160v-160H400v160Zm0 220h160v-160H400v160ZM180-400h160v-160H180v160Zm440 0h160v-160H620v160ZM180-180h160v-160H180v160Zm440 0h160v-160H620v160Z\"/>\n",
              "  </svg>\n",
              "    </button>\n",
              "\n",
              "  <style>\n",
              "    .colab-df-container {\n",
              "      display:flex;\n",
              "      gap: 12px;\n",
              "    }\n",
              "\n",
              "    .colab-df-convert {\n",
              "      background-color: #E8F0FE;\n",
              "      border: none;\n",
              "      border-radius: 50%;\n",
              "      cursor: pointer;\n",
              "      display: none;\n",
              "      fill: #1967D2;\n",
              "      height: 32px;\n",
              "      padding: 0 0 0 0;\n",
              "      width: 32px;\n",
              "    }\n",
              "\n",
              "    .colab-df-convert:hover {\n",
              "      background-color: #E2EBFA;\n",
              "      box-shadow: 0px 1px 2px rgba(60, 64, 67, 0.3), 0px 1px 3px 1px rgba(60, 64, 67, 0.15);\n",
              "      fill: #174EA6;\n",
              "    }\n",
              "\n",
              "    .colab-df-buttons div {\n",
              "      margin-bottom: 4px;\n",
              "    }\n",
              "\n",
              "    [theme=dark] .colab-df-convert {\n",
              "      background-color: #3B4455;\n",
              "      fill: #D2E3FC;\n",
              "    }\n",
              "\n",
              "    [theme=dark] .colab-df-convert:hover {\n",
              "      background-color: #434B5C;\n",
              "      box-shadow: 0px 1px 3px 1px rgba(0, 0, 0, 0.15);\n",
              "      filter: drop-shadow(0px 1px 2px rgba(0, 0, 0, 0.3));\n",
              "      fill: #FFFFFF;\n",
              "    }\n",
              "  </style>\n",
              "\n",
              "    <script>\n",
              "      const buttonEl =\n",
              "        document.querySelector('#df-9ecc89bb-d9b8-460b-b8cd-828283cb8b0e button.colab-df-convert');\n",
              "      buttonEl.style.display =\n",
              "        google.colab.kernel.accessAllowed ? 'block' : 'none';\n",
              "\n",
              "      async function convertToInteractive(key) {\n",
              "        const element = document.querySelector('#df-9ecc89bb-d9b8-460b-b8cd-828283cb8b0e');\n",
              "        const dataTable =\n",
              "          await google.colab.kernel.invokeFunction('convertToInteractive',\n",
              "                                                    [key], {});\n",
              "        if (!dataTable) return;\n",
              "\n",
              "        const docLinkHtml = 'Like what you see? Visit the ' +\n",
              "          '<a target=\"_blank\" href=https://colab.research.google.com/notebooks/data_table.ipynb>data table notebook</a>'\n",
              "          + ' to learn more about interactive tables.';\n",
              "        element.innerHTML = '';\n",
              "        dataTable['output_type'] = 'display_data';\n",
              "        await google.colab.output.renderOutput(dataTable, element);\n",
              "        const docLink = document.createElement('div');\n",
              "        docLink.innerHTML = docLinkHtml;\n",
              "        element.appendChild(docLink);\n",
              "      }\n",
              "    </script>\n",
              "  </div>\n",
              "\n",
              "    </div>\n",
              "  </div>\n"
            ]
          },
          "metadata": {},
          "execution_count": 185
        }
      ]
    },
    {
      "cell_type": "code",
      "source": [
        "labels_df.head()"
      ],
      "metadata": {
        "colab": {
          "base_uri": "https://localhost:8080/",
          "height": 206
        },
        "id": "c9etU_Yt25nK",
        "outputId": "54d6eecf-73bf-426e-a464-7c8e73af08d1"
      },
      "execution_count": 186,
      "outputs": [
        {
          "output_type": "execute_result",
          "data": {
            "text/plain": [
              "   id       label\n",
              "0   1        frog\n",
              "1   2       truck\n",
              "2   3       truck\n",
              "3   4        deer\n",
              "4   5  automobile"
            ],
            "text/html": [
              "\n",
              "  <div id=\"df-786c3d0e-1e75-421e-9a1a-025eec7d4745\" class=\"colab-df-container\">\n",
              "    <div>\n",
              "<style scoped>\n",
              "    .dataframe tbody tr th:only-of-type {\n",
              "        vertical-align: middle;\n",
              "    }\n",
              "\n",
              "    .dataframe tbody tr th {\n",
              "        vertical-align: top;\n",
              "    }\n",
              "\n",
              "    .dataframe thead th {\n",
              "        text-align: right;\n",
              "    }\n",
              "</style>\n",
              "<table border=\"1\" class=\"dataframe\">\n",
              "  <thead>\n",
              "    <tr style=\"text-align: right;\">\n",
              "      <th></th>\n",
              "      <th>id</th>\n",
              "      <th>label</th>\n",
              "    </tr>\n",
              "  </thead>\n",
              "  <tbody>\n",
              "    <tr>\n",
              "      <th>0</th>\n",
              "      <td>1</td>\n",
              "      <td>frog</td>\n",
              "    </tr>\n",
              "    <tr>\n",
              "      <th>1</th>\n",
              "      <td>2</td>\n",
              "      <td>truck</td>\n",
              "    </tr>\n",
              "    <tr>\n",
              "      <th>2</th>\n",
              "      <td>3</td>\n",
              "      <td>truck</td>\n",
              "    </tr>\n",
              "    <tr>\n",
              "      <th>3</th>\n",
              "      <td>4</td>\n",
              "      <td>deer</td>\n",
              "    </tr>\n",
              "    <tr>\n",
              "      <th>4</th>\n",
              "      <td>5</td>\n",
              "      <td>automobile</td>\n",
              "    </tr>\n",
              "  </tbody>\n",
              "</table>\n",
              "</div>\n",
              "    <div class=\"colab-df-buttons\">\n",
              "\n",
              "  <div class=\"colab-df-container\">\n",
              "    <button class=\"colab-df-convert\" onclick=\"convertToInteractive('df-786c3d0e-1e75-421e-9a1a-025eec7d4745')\"\n",
              "            title=\"Convert this dataframe to an interactive table.\"\n",
              "            style=\"display:none;\">\n",
              "\n",
              "  <svg xmlns=\"http://www.w3.org/2000/svg\" height=\"24px\" viewBox=\"0 -960 960 960\">\n",
              "    <path d=\"M120-120v-720h720v720H120Zm60-500h600v-160H180v160Zm220 220h160v-160H400v160Zm0 220h160v-160H400v160ZM180-400h160v-160H180v160Zm440 0h160v-160H620v160ZM180-180h160v-160H180v160Zm440 0h160v-160H620v160Z\"/>\n",
              "  </svg>\n",
              "    </button>\n",
              "\n",
              "  <style>\n",
              "    .colab-df-container {\n",
              "      display:flex;\n",
              "      gap: 12px;\n",
              "    }\n",
              "\n",
              "    .colab-df-convert {\n",
              "      background-color: #E8F0FE;\n",
              "      border: none;\n",
              "      border-radius: 50%;\n",
              "      cursor: pointer;\n",
              "      display: none;\n",
              "      fill: #1967D2;\n",
              "      height: 32px;\n",
              "      padding: 0 0 0 0;\n",
              "      width: 32px;\n",
              "    }\n",
              "\n",
              "    .colab-df-convert:hover {\n",
              "      background-color: #E2EBFA;\n",
              "      box-shadow: 0px 1px 2px rgba(60, 64, 67, 0.3), 0px 1px 3px 1px rgba(60, 64, 67, 0.15);\n",
              "      fill: #174EA6;\n",
              "    }\n",
              "\n",
              "    .colab-df-buttons div {\n",
              "      margin-bottom: 4px;\n",
              "    }\n",
              "\n",
              "    [theme=dark] .colab-df-convert {\n",
              "      background-color: #3B4455;\n",
              "      fill: #D2E3FC;\n",
              "    }\n",
              "\n",
              "    [theme=dark] .colab-df-convert:hover {\n",
              "      background-color: #434B5C;\n",
              "      box-shadow: 0px 1px 3px 1px rgba(0, 0, 0, 0.15);\n",
              "      filter: drop-shadow(0px 1px 2px rgba(0, 0, 0, 0.3));\n",
              "      fill: #FFFFFF;\n",
              "    }\n",
              "  </style>\n",
              "\n",
              "    <script>\n",
              "      const buttonEl =\n",
              "        document.querySelector('#df-786c3d0e-1e75-421e-9a1a-025eec7d4745 button.colab-df-convert');\n",
              "      buttonEl.style.display =\n",
              "        google.colab.kernel.accessAllowed ? 'block' : 'none';\n",
              "\n",
              "      async function convertToInteractive(key) {\n",
              "        const element = document.querySelector('#df-786c3d0e-1e75-421e-9a1a-025eec7d4745');\n",
              "        const dataTable =\n",
              "          await google.colab.kernel.invokeFunction('convertToInteractive',\n",
              "                                                    [key], {});\n",
              "        if (!dataTable) return;\n",
              "\n",
              "        const docLinkHtml = 'Like what you see? Visit the ' +\n",
              "          '<a target=\"_blank\" href=https://colab.research.google.com/notebooks/data_table.ipynb>data table notebook</a>'\n",
              "          + ' to learn more about interactive tables.';\n",
              "        element.innerHTML = '';\n",
              "        dataTable['output_type'] = 'display_data';\n",
              "        await google.colab.output.renderOutput(dataTable, element);\n",
              "        const docLink = document.createElement('div');\n",
              "        docLink.innerHTML = docLinkHtml;\n",
              "        element.appendChild(docLink);\n",
              "      }\n",
              "    </script>\n",
              "  </div>\n",
              "\n",
              "\n",
              "<div id=\"df-96f43cb7-41ec-4e7f-b56f-8b85a5f107b9\">\n",
              "  <button class=\"colab-df-quickchart\" onclick=\"quickchart('df-96f43cb7-41ec-4e7f-b56f-8b85a5f107b9')\"\n",
              "            title=\"Suggest charts.\"\n",
              "            style=\"display:none;\">\n",
              "\n",
              "<svg xmlns=\"http://www.w3.org/2000/svg\" height=\"24px\"viewBox=\"0 0 24 24\"\n",
              "     width=\"24px\">\n",
              "    <g>\n",
              "        <path d=\"M19 3H5c-1.1 0-2 .9-2 2v14c0 1.1.9 2 2 2h14c1.1 0 2-.9 2-2V5c0-1.1-.9-2-2-2zM9 17H7v-7h2v7zm4 0h-2V7h2v10zm4 0h-2v-4h2v4z\"/>\n",
              "    </g>\n",
              "</svg>\n",
              "  </button>\n",
              "\n",
              "<style>\n",
              "  .colab-df-quickchart {\n",
              "      --bg-color: #E8F0FE;\n",
              "      --fill-color: #1967D2;\n",
              "      --hover-bg-color: #E2EBFA;\n",
              "      --hover-fill-color: #174EA6;\n",
              "      --disabled-fill-color: #AAA;\n",
              "      --disabled-bg-color: #DDD;\n",
              "  }\n",
              "\n",
              "  [theme=dark] .colab-df-quickchart {\n",
              "      --bg-color: #3B4455;\n",
              "      --fill-color: #D2E3FC;\n",
              "      --hover-bg-color: #434B5C;\n",
              "      --hover-fill-color: #FFFFFF;\n",
              "      --disabled-bg-color: #3B4455;\n",
              "      --disabled-fill-color: #666;\n",
              "  }\n",
              "\n",
              "  .colab-df-quickchart {\n",
              "    background-color: var(--bg-color);\n",
              "    border: none;\n",
              "    border-radius: 50%;\n",
              "    cursor: pointer;\n",
              "    display: none;\n",
              "    fill: var(--fill-color);\n",
              "    height: 32px;\n",
              "    padding: 0;\n",
              "    width: 32px;\n",
              "  }\n",
              "\n",
              "  .colab-df-quickchart:hover {\n",
              "    background-color: var(--hover-bg-color);\n",
              "    box-shadow: 0 1px 2px rgba(60, 64, 67, 0.3), 0 1px 3px 1px rgba(60, 64, 67, 0.15);\n",
              "    fill: var(--button-hover-fill-color);\n",
              "  }\n",
              "\n",
              "  .colab-df-quickchart-complete:disabled,\n",
              "  .colab-df-quickchart-complete:disabled:hover {\n",
              "    background-color: var(--disabled-bg-color);\n",
              "    fill: var(--disabled-fill-color);\n",
              "    box-shadow: none;\n",
              "  }\n",
              "\n",
              "  .colab-df-spinner {\n",
              "    border: 2px solid var(--fill-color);\n",
              "    border-color: transparent;\n",
              "    border-bottom-color: var(--fill-color);\n",
              "    animation:\n",
              "      spin 1s steps(1) infinite;\n",
              "  }\n",
              "\n",
              "  @keyframes spin {\n",
              "    0% {\n",
              "      border-color: transparent;\n",
              "      border-bottom-color: var(--fill-color);\n",
              "      border-left-color: var(--fill-color);\n",
              "    }\n",
              "    20% {\n",
              "      border-color: transparent;\n",
              "      border-left-color: var(--fill-color);\n",
              "      border-top-color: var(--fill-color);\n",
              "    }\n",
              "    30% {\n",
              "      border-color: transparent;\n",
              "      border-left-color: var(--fill-color);\n",
              "      border-top-color: var(--fill-color);\n",
              "      border-right-color: var(--fill-color);\n",
              "    }\n",
              "    40% {\n",
              "      border-color: transparent;\n",
              "      border-right-color: var(--fill-color);\n",
              "      border-top-color: var(--fill-color);\n",
              "    }\n",
              "    60% {\n",
              "      border-color: transparent;\n",
              "      border-right-color: var(--fill-color);\n",
              "    }\n",
              "    80% {\n",
              "      border-color: transparent;\n",
              "      border-right-color: var(--fill-color);\n",
              "      border-bottom-color: var(--fill-color);\n",
              "    }\n",
              "    90% {\n",
              "      border-color: transparent;\n",
              "      border-bottom-color: var(--fill-color);\n",
              "    }\n",
              "  }\n",
              "</style>\n",
              "\n",
              "  <script>\n",
              "    async function quickchart(key) {\n",
              "      const quickchartButtonEl =\n",
              "        document.querySelector('#' + key + ' button');\n",
              "      quickchartButtonEl.disabled = true;  // To prevent multiple clicks.\n",
              "      quickchartButtonEl.classList.add('colab-df-spinner');\n",
              "      try {\n",
              "        const charts = await google.colab.kernel.invokeFunction(\n",
              "            'suggestCharts', [key], {});\n",
              "      } catch (error) {\n",
              "        console.error('Error during call to suggestCharts:', error);\n",
              "      }\n",
              "      quickchartButtonEl.classList.remove('colab-df-spinner');\n",
              "      quickchartButtonEl.classList.add('colab-df-quickchart-complete');\n",
              "    }\n",
              "    (() => {\n",
              "      let quickchartButtonEl =\n",
              "        document.querySelector('#df-96f43cb7-41ec-4e7f-b56f-8b85a5f107b9 button');\n",
              "      quickchartButtonEl.style.display =\n",
              "        google.colab.kernel.accessAllowed ? 'block' : 'none';\n",
              "    })();\n",
              "  </script>\n",
              "</div>\n",
              "    </div>\n",
              "  </div>\n"
            ]
          },
          "metadata": {},
          "execution_count": 186
        }
      ]
    },
    {
      "cell_type": "code",
      "source": [
        "# list of image IDs\n",
        "id_list = list(labels_df['id'])"
      ],
      "metadata": {
        "id": "YVboAfQ627rJ"
      },
      "execution_count": 187,
      "outputs": []
    },
    {
      "cell_type": "code",
      "source": [
        "print(id_list[0:5])\n",
        "print(id_list[-5:])"
      ],
      "metadata": {
        "colab": {
          "base_uri": "https://localhost:8080/"
        },
        "id": "OcJULfCq3Bt6",
        "outputId": "9b85ad51-ef6c-47a2-b768-c7190ee40436"
      },
      "execution_count": 188,
      "outputs": [
        {
          "output_type": "stream",
          "name": "stdout",
          "text": [
            "[1, 2, 3, 4, 5]\n",
            "[49996, 49997, 49998, 49999, 50000]\n"
          ]
        }
      ]
    },
    {
      "cell_type": "markdown",
      "source": [
        "**Image Preprocessing**"
      ],
      "metadata": {
        "id": "nqXjL2tJ3Ofm"
      }
    },
    {
      "cell_type": "code",
      "source": [
        "# converting images to numpy arrays\n",
        "\n",
        "train_data_folder = '/content/train/'\n",
        "\n",
        "data = []\n",
        "\n",
        "for id in id_list:\n",
        "\n",
        "  image = Image.open(train_data_folder + str(id) + '.png')\n",
        "  image = np.array(image)\n",
        "  data.append(image)"
      ],
      "metadata": {
        "id": "3WpZ-PH13Dma"
      },
      "execution_count": 189,
      "outputs": []
    },
    {
      "cell_type": "code",
      "source": [
        "type(data)"
      ],
      "metadata": {
        "colab": {
          "base_uri": "https://localhost:8080/"
        },
        "id": "pe1bmRHp3YFH",
        "outputId": "7a1d111a-737f-4f79-d46e-3f68041df0db"
      },
      "execution_count": 190,
      "outputs": [
        {
          "output_type": "execute_result",
          "data": {
            "text/plain": [
              "list"
            ]
          },
          "metadata": {},
          "execution_count": 190
        }
      ]
    },
    {
      "cell_type": "code",
      "source": [
        "len(data)"
      ],
      "metadata": {
        "colab": {
          "base_uri": "https://localhost:8080/"
        },
        "id": "e9LZjxzz3cqI",
        "outputId": "4065f691-487f-4194-90ce-99e3f50a6f65"
      },
      "execution_count": 191,
      "outputs": [
        {
          "output_type": "execute_result",
          "data": {
            "text/plain": [
              "50000"
            ]
          },
          "metadata": {},
          "execution_count": 191
        }
      ]
    },
    {
      "cell_type": "code",
      "source": [
        "type(data[0])"
      ],
      "metadata": {
        "colab": {
          "base_uri": "https://localhost:8080/"
        },
        "id": "XGf3S0dm3d-H",
        "outputId": "5654cad3-ccef-472f-be26-501f5cbc2baf"
      },
      "execution_count": 192,
      "outputs": [
        {
          "output_type": "execute_result",
          "data": {
            "text/plain": [
              "numpy.ndarray"
            ]
          },
          "metadata": {},
          "execution_count": 192
        }
      ]
    },
    {
      "cell_type": "code",
      "source": [
        "data[0].shape"
      ],
      "metadata": {
        "colab": {
          "base_uri": "https://localhost:8080/"
        },
        "id": "Xgj9px8M3fac",
        "outputId": "6a05c1ab-1f75-45e0-cb92-106cf9b7a9ee"
      },
      "execution_count": 193,
      "outputs": [
        {
          "output_type": "execute_result",
          "data": {
            "text/plain": [
              "(32, 32, 3)"
            ]
          },
          "metadata": {},
          "execution_count": 193
        }
      ]
    },
    {
      "cell_type": "code",
      "source": [
        "data[0]     # RGB values of each pixel"
      ],
      "metadata": {
        "colab": {
          "base_uri": "https://localhost:8080/"
        },
        "id": "Cdz-EVQr3gi6",
        "outputId": "22e1530e-c5d1-4430-dacb-c67ff6547b40"
      },
      "execution_count": 194,
      "outputs": [
        {
          "output_type": "execute_result",
          "data": {
            "text/plain": [
              "array([[[ 59,  62,  63],\n",
              "        [ 43,  46,  45],\n",
              "        [ 50,  48,  43],\n",
              "        ...,\n",
              "        [158, 132, 108],\n",
              "        [152, 125, 102],\n",
              "        [148, 124, 103]],\n",
              "\n",
              "       [[ 16,  20,  20],\n",
              "        [  0,   0,   0],\n",
              "        [ 18,   8,   0],\n",
              "        ...,\n",
              "        [123,  88,  55],\n",
              "        [119,  83,  50],\n",
              "        [122,  87,  57]],\n",
              "\n",
              "       [[ 25,  24,  21],\n",
              "        [ 16,   7,   0],\n",
              "        [ 49,  27,   8],\n",
              "        ...,\n",
              "        [118,  84,  50],\n",
              "        [120,  84,  50],\n",
              "        [109,  73,  42]],\n",
              "\n",
              "       ...,\n",
              "\n",
              "       [[208, 170,  96],\n",
              "        [201, 153,  34],\n",
              "        [198, 161,  26],\n",
              "        ...,\n",
              "        [160, 133,  70],\n",
              "        [ 56,  31,   7],\n",
              "        [ 53,  34,  20]],\n",
              "\n",
              "       [[180, 139,  96],\n",
              "        [173, 123,  42],\n",
              "        [186, 144,  30],\n",
              "        ...,\n",
              "        [184, 148,  94],\n",
              "        [ 97,  62,  34],\n",
              "        [ 83,  53,  34]],\n",
              "\n",
              "       [[177, 144, 116],\n",
              "        [168, 129,  94],\n",
              "        [179, 142,  87],\n",
              "        ...,\n",
              "        [216, 184, 140],\n",
              "        [151, 118,  84],\n",
              "        [123,  92,  72]]], dtype=uint8)"
            ]
          },
          "metadata": {},
          "execution_count": 194
        }
      ]
    },
    {
      "cell_type": "code",
      "source": [
        "# convert image list and label list to numpy arrays\n",
        "\n",
        "X = np.array(data)\n",
        "Y = np.array(labels)"
      ],
      "metadata": {
        "id": "ZRfVZtkt3hnC"
      },
      "execution_count": 195,
      "outputs": []
    },
    {
      "cell_type": "code",
      "source": [
        "type(X)"
      ],
      "metadata": {
        "colab": {
          "base_uri": "https://localhost:8080/"
        },
        "id": "3OzfkCKH3-CH",
        "outputId": "da53ac1c-439c-497b-e6a1-4ebff8d08d34"
      },
      "execution_count": 196,
      "outputs": [
        {
          "output_type": "execute_result",
          "data": {
            "text/plain": [
              "numpy.ndarray"
            ]
          },
          "metadata": {},
          "execution_count": 196
        }
      ]
    },
    {
      "cell_type": "code",
      "source": [
        "print(X.shape)\n",
        "print(Y.shape)"
      ],
      "metadata": {
        "colab": {
          "base_uri": "https://localhost:8080/"
        },
        "id": "332yASA54ASx",
        "outputId": "9c1233bc-d1cc-4fa1-820e-1e4ca17f7391"
      },
      "execution_count": 197,
      "outputs": [
        {
          "output_type": "stream",
          "name": "stdout",
          "text": [
            "(50000, 32, 32, 3)\n",
            "(50000,)\n"
          ]
        }
      ]
    },
    {
      "cell_type": "markdown",
      "source": [
        "**Train Test Split**"
      ],
      "metadata": {
        "id": "Bn44uGhp4E3Q"
      }
    },
    {
      "cell_type": "code",
      "source": [
        "X_train, X_test, Y_train, Y_test = train_test_split(X, Y, test_size=0.2, random_state=42)"
      ],
      "metadata": {
        "id": "jBCGEuso4B35"
      },
      "execution_count": 198,
      "outputs": []
    },
    {
      "cell_type": "code",
      "source": [
        "print(X.shape, X_train.shape, X_test.shape)"
      ],
      "metadata": {
        "colab": {
          "base_uri": "https://localhost:8080/"
        },
        "id": "N78XUaHG4LeS",
        "outputId": "d3bd5154-cd9c-4f50-edf8-561a9d77d7af"
      },
      "execution_count": 199,
      "outputs": [
        {
          "output_type": "stream",
          "name": "stdout",
          "text": [
            "(50000, 32, 32, 3) (40000, 32, 32, 3) (10000, 32, 32, 3)\n"
          ]
        }
      ]
    },
    {
      "cell_type": "code",
      "source": [
        "# scaling the data\n",
        "\n",
        "X_train_scaled = X_train/255\n",
        "\n",
        "X_test_scaled = X_test/255"
      ],
      "metadata": {
        "id": "tyBpszVr4OjF"
      },
      "execution_count": 200,
      "outputs": []
    },
    {
      "cell_type": "code",
      "source": [
        "X_train_scaled"
      ],
      "metadata": {
        "colab": {
          "base_uri": "https://localhost:8080/"
        },
        "id": "xuTZaDeC4SNI",
        "outputId": "5277ffc3-659c-4bbf-a568-97f187c21637"
      },
      "execution_count": 201,
      "outputs": [
        {
          "output_type": "execute_result",
          "data": {
            "text/plain": [
              "array([[[[0.13333333, 0.14117647, 0.16862745],\n",
              "         [0.14509804, 0.14509804, 0.2       ],\n",
              "         [0.17254902, 0.17254902, 0.25098039],\n",
              "         ...,\n",
              "         [0.24313725, 0.28627451, 0.36470588],\n",
              "         [0.20392157, 0.24705882, 0.3254902 ],\n",
              "         [0.17647059, 0.22352941, 0.30196078]],\n",
              "\n",
              "        [[0.1372549 , 0.1372549 , 0.14509804],\n",
              "         [0.13333333, 0.13333333, 0.15686275],\n",
              "         [0.13333333, 0.12941176, 0.16862745],\n",
              "         ...,\n",
              "         [0.22745098, 0.27058824, 0.34901961],\n",
              "         [0.19607843, 0.23529412, 0.31372549],\n",
              "         [0.18431373, 0.22745098, 0.30588235]],\n",
              "\n",
              "        [[0.13333333, 0.12941176, 0.1372549 ],\n",
              "         [0.12941176, 0.1254902 , 0.14117647],\n",
              "         [0.12941176, 0.1254902 , 0.14901961],\n",
              "         ...,\n",
              "         [0.25882353, 0.30196078, 0.38039216],\n",
              "         [0.2       , 0.24313725, 0.32156863],\n",
              "         [0.20784314, 0.25098039, 0.32941176]],\n",
              "\n",
              "        ...,\n",
              "\n",
              "        [[0.1254902 , 0.1254902 , 0.14901961],\n",
              "         [0.1254902 , 0.12156863, 0.14509804],\n",
              "         [0.12941176, 0.12941176, 0.14901961],\n",
              "         ...,\n",
              "         [0.16078431, 0.14901961, 0.17647059],\n",
              "         [0.13333333, 0.12156863, 0.14901961],\n",
              "         [0.14117647, 0.1254902 , 0.15686275]],\n",
              "\n",
              "        [[0.12941176, 0.12156863, 0.14117647],\n",
              "         [0.1254902 , 0.11764706, 0.14117647],\n",
              "         [0.13333333, 0.1254902 , 0.14509804],\n",
              "         ...,\n",
              "         [0.14509804, 0.1372549 , 0.15686275],\n",
              "         [0.1254902 , 0.11372549, 0.1372549 ],\n",
              "         [0.11764706, 0.10980392, 0.12941176]],\n",
              "\n",
              "        [[0.14509804, 0.1254902 , 0.1372549 ],\n",
              "         [0.14509804, 0.1254902 , 0.14117647],\n",
              "         [0.14509804, 0.12941176, 0.14117647],\n",
              "         ...,\n",
              "         [0.19215686, 0.18431373, 0.19215686],\n",
              "         [0.18431373, 0.17647059, 0.18823529],\n",
              "         [0.22745098, 0.21960784, 0.22745098]]],\n",
              "\n",
              "\n",
              "       [[[0.35686275, 0.36862745, 0.35686275],\n",
              "         [0.37254902, 0.44313725, 0.34509804],\n",
              "         [0.36078431, 0.4745098 , 0.35686275],\n",
              "         ...,\n",
              "         [0.58823529, 0.6       , 0.58823529],\n",
              "         [0.51372549, 0.56862745, 0.41568627],\n",
              "         [0.34901961, 0.4627451 , 0.14901961]],\n",
              "\n",
              "        [[0.39215686, 0.53333333, 0.39607843],\n",
              "         [0.36862745, 0.50196078, 0.39215686],\n",
              "         [0.2745098 , 0.40392157, 0.27843137],\n",
              "         ...,\n",
              "         [0.30196078, 0.30980392, 0.30588235],\n",
              "         [0.38823529, 0.44705882, 0.35294118],\n",
              "         [0.3372549 , 0.43137255, 0.22352941]],\n",
              "\n",
              "        [[0.40784314, 0.56470588, 0.38823529],\n",
              "         [0.33333333, 0.47843137, 0.33333333],\n",
              "         [0.22745098, 0.32941176, 0.2       ],\n",
              "         ...,\n",
              "         [0.24313725, 0.29019608, 0.27058824],\n",
              "         [0.21960784, 0.2745098 , 0.21960784],\n",
              "         [0.2627451 , 0.33333333, 0.22352941]],\n",
              "\n",
              "        ...,\n",
              "\n",
              "        [[0.4627451 , 0.41960784, 0.40392157],\n",
              "         [0.58039216, 0.54509804, 0.55686275],\n",
              "         [0.52156863, 0.47058824, 0.45882353],\n",
              "         ...,\n",
              "         [0.32156863, 0.29019608, 0.35686275],\n",
              "         [0.48627451, 0.42745098, 0.46666667],\n",
              "         [0.41960784, 0.35294118, 0.36862745]],\n",
              "\n",
              "        [[0.56078431, 0.47843137, 0.49019608],\n",
              "         [0.58823529, 0.5254902 , 0.54901961],\n",
              "         [0.70980392, 0.61960784, 0.59607843],\n",
              "         ...,\n",
              "         [0.29019608, 0.2745098 , 0.3372549 ],\n",
              "         [0.43137255, 0.4       , 0.41568627],\n",
              "         [0.38039216, 0.35294118, 0.34509804]],\n",
              "\n",
              "        [[0.4745098 , 0.43529412, 0.42745098],\n",
              "         [0.52941176, 0.49411765, 0.49803922],\n",
              "         [0.60784314, 0.54117647, 0.53333333],\n",
              "         ...,\n",
              "         [0.25490196, 0.22352941, 0.29019608],\n",
              "         [0.50980392, 0.4627451 , 0.4745098 ],\n",
              "         [0.57647059, 0.53333333, 0.5254902 ]]],\n",
              "\n",
              "\n",
              "       [[[0.81568627, 0.76862745, 0.61960784],\n",
              "         [0.77647059, 0.70196078, 0.59215686],\n",
              "         [0.64313725, 0.60784314, 0.50980392],\n",
              "         ...,\n",
              "         [0.68235294, 0.62352941, 0.5254902 ],\n",
              "         [0.72941176, 0.6745098 , 0.52941176],\n",
              "         [0.75294118, 0.73333333, 0.57647059]],\n",
              "\n",
              "        [[0.8       , 0.76470588, 0.61960784],\n",
              "         [0.70196078, 0.64705882, 0.55294118],\n",
              "         [0.6       , 0.56078431, 0.50588235],\n",
              "         ...,\n",
              "         [0.68235294, 0.61960784, 0.5372549 ],\n",
              "         [0.74509804, 0.68235294, 0.56078431],\n",
              "         [0.74509804, 0.70980392, 0.56078431]],\n",
              "\n",
              "        [[0.7254902 , 0.70588235, 0.58039216],\n",
              "         [0.52941176, 0.49411765, 0.43921569],\n",
              "         [0.39215686, 0.34901961, 0.36078431],\n",
              "         ...,\n",
              "         [0.74901961, 0.69019608, 0.58823529],\n",
              "         [0.70588235, 0.63921569, 0.52941176],\n",
              "         [0.78823529, 0.7372549 , 0.61176471]],\n",
              "\n",
              "        ...,\n",
              "\n",
              "        [[0.85098039, 0.82745098, 0.81960784],\n",
              "         [0.73333333, 0.69019608, 0.7372549 ],\n",
              "         [0.69411765, 0.64313725, 0.66666667],\n",
              "         ...,\n",
              "         [0.54509804, 0.43137255, 0.4627451 ],\n",
              "         [0.58823529, 0.43921569, 0.4745098 ],\n",
              "         [0.84705882, 0.77647059, 0.77254902]],\n",
              "\n",
              "        [[0.93333333, 0.89411765, 0.88627451],\n",
              "         [0.88627451, 0.83921569, 0.85098039],\n",
              "         [0.91764706, 0.8745098 , 0.86666667],\n",
              "         ...,\n",
              "         [0.59215686, 0.44705882, 0.47843137],\n",
              "         [0.71764706, 0.58431373, 0.60784314],\n",
              "         [0.85490196, 0.77647059, 0.78039216]],\n",
              "\n",
              "        [[0.9254902 , 0.87843137, 0.87058824],\n",
              "         [0.84705882, 0.8       , 0.8       ],\n",
              "         [0.88235294, 0.83921569, 0.81960784],\n",
              "         ...,\n",
              "         [0.73333333, 0.63137255, 0.63921569],\n",
              "         [0.7372549 , 0.64705882, 0.64705882],\n",
              "         [0.69411765, 0.61960784, 0.61568627]]],\n",
              "\n",
              "\n",
              "       ...,\n",
              "\n",
              "\n",
              "       [[[0.41960784, 0.57647059, 0.76078431],\n",
              "         [0.49803922, 0.61176471, 0.76470588],\n",
              "         [0.45882353, 0.59607843, 0.76470588],\n",
              "         ...,\n",
              "         [0.51764706, 0.70588235, 0.88235294],\n",
              "         [0.50196078, 0.69803922, 0.87058824],\n",
              "         [0.48235294, 0.69019608, 0.85882353]],\n",
              "\n",
              "        [[0.4627451 , 0.61176471, 0.78431373],\n",
              "         [0.52156863, 0.62745098, 0.76862745],\n",
              "         [0.48627451, 0.61176471, 0.76862745],\n",
              "         ...,\n",
              "         [0.55686275, 0.7254902 , 0.88627451],\n",
              "         [0.53333333, 0.70980392, 0.87058824],\n",
              "         [0.51372549, 0.70588235, 0.85882353]],\n",
              "\n",
              "        [[0.49803922, 0.63137255, 0.78823529],\n",
              "         [0.5372549 , 0.63529412, 0.75686275],\n",
              "         [0.51764706, 0.63137255, 0.76862745],\n",
              "         ...,\n",
              "         [0.59215686, 0.7372549 , 0.87843137],\n",
              "         [0.56078431, 0.71372549, 0.85490196],\n",
              "         [0.54509804, 0.70980392, 0.84313725]],\n",
              "\n",
              "        ...,\n",
              "\n",
              "        [[0.12156863, 0.12156863, 0.12156863],\n",
              "         [0.12156863, 0.12156863, 0.12156863],\n",
              "         [0.12156863, 0.12156863, 0.12156863],\n",
              "         ...,\n",
              "         [0.1254902 , 0.11764706, 0.15686275],\n",
              "         [0.11372549, 0.1254902 , 0.16470588],\n",
              "         [0.10980392, 0.12941176, 0.16078431]],\n",
              "\n",
              "        [[0.12156863, 0.12156863, 0.12156863],\n",
              "         [0.12156863, 0.12156863, 0.12156863],\n",
              "         [0.12156863, 0.12156863, 0.12156863],\n",
              "         ...,\n",
              "         [0.12156863, 0.11764706, 0.14117647],\n",
              "         [0.11764706, 0.12156863, 0.14509804],\n",
              "         [0.11764706, 0.12156863, 0.14117647]],\n",
              "\n",
              "        [[0.12156863, 0.12156863, 0.12156863],\n",
              "         [0.12156863, 0.12156863, 0.12156863],\n",
              "         [0.12156863, 0.12156863, 0.12156863],\n",
              "         ...,\n",
              "         [0.12156863, 0.11764706, 0.13333333],\n",
              "         [0.12156863, 0.11764706, 0.13333333],\n",
              "         [0.12156863, 0.11764706, 0.13333333]]],\n",
              "\n",
              "\n",
              "       [[[1.        , 1.        , 1.        ],\n",
              "         [1.        , 1.        , 1.        ],\n",
              "         [1.        , 1.        , 1.        ],\n",
              "         ...,\n",
              "         [1.        , 1.        , 1.        ],\n",
              "         [1.        , 1.        , 1.        ],\n",
              "         [1.        , 1.        , 1.        ]],\n",
              "\n",
              "        [[1.        , 1.        , 1.        ],\n",
              "         [0.99215686, 0.99215686, 0.99215686],\n",
              "         [0.99607843, 0.99607843, 0.99607843],\n",
              "         ...,\n",
              "         [0.99607843, 0.99607843, 0.99607843],\n",
              "         [0.98823529, 0.99607843, 0.99215686],\n",
              "         [0.99607843, 1.        , 1.        ]],\n",
              "\n",
              "        [[1.        , 1.        , 1.        ],\n",
              "         [0.99607843, 0.99607843, 0.99607843],\n",
              "         [1.        , 1.        , 1.        ],\n",
              "         ...,\n",
              "         [0.99607843, 1.        , 1.        ],\n",
              "         [0.99215686, 0.99607843, 0.99607843],\n",
              "         [0.99607843, 1.        , 1.        ]],\n",
              "\n",
              "        ...,\n",
              "\n",
              "        [[0.30196078, 0.28627451, 0.26666667],\n",
              "         [0.31764706, 0.30196078, 0.2745098 ],\n",
              "         [0.30980392, 0.29803922, 0.2627451 ],\n",
              "         ...,\n",
              "         [0.30588235, 0.31372549, 0.28627451],\n",
              "         [0.29803922, 0.29411765, 0.27058824],\n",
              "         [0.30588235, 0.28627451, 0.25882353]],\n",
              "\n",
              "        [[0.25098039, 0.23529412, 0.21176471],\n",
              "         [0.24705882, 0.23529412, 0.20392157],\n",
              "         [0.28235294, 0.2745098 , 0.23529412],\n",
              "         ...,\n",
              "         [0.26666667, 0.27843137, 0.25098039],\n",
              "         [0.29019608, 0.28627451, 0.27058824],\n",
              "         [0.30588235, 0.27058824, 0.2627451 ]],\n",
              "\n",
              "        [[0.23137255, 0.21960784, 0.19607843],\n",
              "         [0.25882353, 0.24705882, 0.21176471],\n",
              "         [0.29411765, 0.28235294, 0.24313725],\n",
              "         ...,\n",
              "         [0.24313725, 0.25098039, 0.21960784],\n",
              "         [0.25882353, 0.25098039, 0.23137255],\n",
              "         [0.27843137, 0.25098039, 0.23921569]]],\n",
              "\n",
              "\n",
              "       [[[0.73333333, 0.80392157, 0.94117647],\n",
              "         [0.77254902, 0.81960784, 0.94117647],\n",
              "         [0.78431373, 0.81960784, 0.9254902 ],\n",
              "         ...,\n",
              "         [0.95686275, 0.96078431, 0.97647059],\n",
              "         [0.94901961, 0.95294118, 0.97254902],\n",
              "         [0.95294118, 0.95294118, 0.97647059]],\n",
              "\n",
              "        [[0.58039216, 0.68235294, 0.85882353],\n",
              "         [0.6627451 , 0.73333333, 0.89019608],\n",
              "         [0.72156863, 0.76862745, 0.90588235],\n",
              "         ...,\n",
              "         [0.9372549 , 0.9372549 , 0.95686275],\n",
              "         [0.96078431, 0.96470588, 0.98431373],\n",
              "         [0.97254902, 0.97254902, 0.99215686]],\n",
              "\n",
              "        [[0.60784314, 0.71372549, 0.89803922],\n",
              "         [0.63529412, 0.7254902 , 0.89411765],\n",
              "         [0.69411765, 0.76862745, 0.92156863],\n",
              "         ...,\n",
              "         [0.9372549 , 0.9372549 , 0.97254902],\n",
              "         [0.94509804, 0.94509804, 0.97647059],\n",
              "         [0.94117647, 0.94509804, 0.96862745]],\n",
              "\n",
              "        ...,\n",
              "\n",
              "        [[0.21176471, 0.2627451 , 0.30196078],\n",
              "         [0.22352941, 0.2745098 , 0.30980392],\n",
              "         [0.21960784, 0.27058824, 0.30588235],\n",
              "         ...,\n",
              "         [0.36078431, 0.44313725, 0.45490196],\n",
              "         [0.38431373, 0.46666667, 0.49019608],\n",
              "         [0.37647059, 0.45490196, 0.48627451]],\n",
              "\n",
              "        [[0.16470588, 0.21568627, 0.24705882],\n",
              "         [0.16078431, 0.21176471, 0.24313725],\n",
              "         [0.15686275, 0.20784314, 0.23921569],\n",
              "         ...,\n",
              "         [0.30196078, 0.38431373, 0.39215686],\n",
              "         [0.36862745, 0.45098039, 0.46666667],\n",
              "         [0.35294118, 0.43529412, 0.45882353]],\n",
              "\n",
              "        [[0.1254902 , 0.18039216, 0.20392157],\n",
              "         [0.1254902 , 0.17647059, 0.2       ],\n",
              "         [0.1372549 , 0.18823529, 0.21176471],\n",
              "         ...,\n",
              "         [0.29019608, 0.37254902, 0.37254902],\n",
              "         [0.31372549, 0.39607843, 0.40392157],\n",
              "         [0.31372549, 0.39607843, 0.41568627]]]])"
            ]
          },
          "metadata": {},
          "execution_count": 201
        }
      ]
    },
    {
      "cell_type": "code",
      "source": [
        "X_train[0]"
      ],
      "metadata": {
        "colab": {
          "base_uri": "https://localhost:8080/"
        },
        "id": "uZB_Ah4S4TvL",
        "outputId": "63b41539-e684-4cab-f792-cbcf0dfc4ead"
      },
      "execution_count": 202,
      "outputs": [
        {
          "output_type": "execute_result",
          "data": {
            "text/plain": [
              "array([[[34, 36, 43],\n",
              "        [37, 37, 51],\n",
              "        [44, 44, 64],\n",
              "        ...,\n",
              "        [62, 73, 93],\n",
              "        [52, 63, 83],\n",
              "        [45, 57, 77]],\n",
              "\n",
              "       [[35, 35, 37],\n",
              "        [34, 34, 40],\n",
              "        [34, 33, 43],\n",
              "        ...,\n",
              "        [58, 69, 89],\n",
              "        [50, 60, 80],\n",
              "        [47, 58, 78]],\n",
              "\n",
              "       [[34, 33, 35],\n",
              "        [33, 32, 36],\n",
              "        [33, 32, 38],\n",
              "        ...,\n",
              "        [66, 77, 97],\n",
              "        [51, 62, 82],\n",
              "        [53, 64, 84]],\n",
              "\n",
              "       ...,\n",
              "\n",
              "       [[32, 32, 38],\n",
              "        [32, 31, 37],\n",
              "        [33, 33, 38],\n",
              "        ...,\n",
              "        [41, 38, 45],\n",
              "        [34, 31, 38],\n",
              "        [36, 32, 40]],\n",
              "\n",
              "       [[33, 31, 36],\n",
              "        [32, 30, 36],\n",
              "        [34, 32, 37],\n",
              "        ...,\n",
              "        [37, 35, 40],\n",
              "        [32, 29, 35],\n",
              "        [30, 28, 33]],\n",
              "\n",
              "       [[37, 32, 35],\n",
              "        [37, 32, 36],\n",
              "        [37, 33, 36],\n",
              "        ...,\n",
              "        [49, 47, 49],\n",
              "        [47, 45, 48],\n",
              "        [58, 56, 58]]], dtype=uint8)"
            ]
          },
          "metadata": {},
          "execution_count": 202
        }
      ]
    },
    {
      "cell_type": "markdown",
      "source": [
        "**Building the Convolutional Neural Network**"
      ],
      "metadata": {
        "id": "MsfMB0z24aJR"
      }
    },
    {
      "cell_type": "code",
      "source": [
        "import tensorflow as tf\n",
        "from tensorflow import keras"
      ],
      "metadata": {
        "id": "V64_uuG64WnZ"
      },
      "execution_count": 203,
      "outputs": []
    },
    {
      "cell_type": "code",
      "source": [
        "num_of_classes = 10"
      ],
      "metadata": {
        "id": "pLd4wWQP4hbh"
      },
      "execution_count": 204,
      "outputs": []
    },
    {
      "cell_type": "code",
      "source": [
        "# create a Sequential model\n",
        "model = keras.Sequential([\n",
        "    # 1st convolution block\n",
        "    keras.layers.Conv2D(64, (3,3), padding='same', input_shape=(32, 32, 3)),\n",
        "    keras.layers.Activation('relu'),\n",
        "    keras.layers.BatchNormalization(),\n",
        "    keras.layers.Dropout(0.3),\n",
        "    keras.layers.Conv2D(64, (3,3), padding='same'),\n",
        "    keras.layers.Activation('relu'),\n",
        "    keras.layers.BatchNormalization(),\n",
        "    keras.layers.MaxPooling2D(pool_size=(2, 2)),\n",
        "    # 2nd convolution block\n",
        "    keras.layers.Conv2D(128, (3,3), padding='same'),\n",
        "    keras.layers.Activation('relu'),\n",
        "    keras.layers.BatchNormalization(),\n",
        "    keras.layers.Dropout(0.4),\n",
        "    keras.layers.Conv2D(128, (3,3), padding='same'),\n",
        "    keras.layers.Activation('relu'),\n",
        "    keras.layers.BatchNormalization(),\n",
        "    keras.layers.MaxPooling2D(pool_size=(2, 2)),\n",
        "    # 3rd convolution block\n",
        "    keras.layers.Conv2D(256, (3,3), padding='same'),\n",
        "    keras.layers.Activation('relu'),\n",
        "    keras.layers.BatchNormalization(),\n",
        "    keras.layers.Dropout(0.4),\n",
        "    keras.layers.Conv2D(256, (3,3), padding='same'),\n",
        "    keras.layers.Activation('relu'),\n",
        "    keras.layers.BatchNormalization(),\n",
        "    keras.layers.Dropout(0.4),\n",
        "    keras.layers.Conv2D(256, (3,3), padding='same'),\n",
        "    keras.layers.Activation('relu'),\n",
        "    keras.layers.BatchNormalization(),\n",
        "    keras.layers.MaxPooling2D(pool_size=(2, 2)),\n",
        "    # 4th convolution block\n",
        "    keras.layers.Conv2D(512, (3,3), padding='same'),\n",
        "    keras.layers.Activation('relu'),\n",
        "    keras.layers.BatchNormalization(),\n",
        "    keras.layers.Dropout(0.4),\n",
        "    keras.layers.Conv2D(512, (3,3), padding='same'),\n",
        "    keras.layers.Activation('relu'),\n",
        "    keras.layers.BatchNormalization(),\n",
        "    keras.layers.Dropout(0.4),\n",
        "    keras.layers.Conv2D(512, (3,3), padding='same'),\n",
        "    keras.layers.Activation('relu'),\n",
        "    keras.layers.BatchNormalization(),\n",
        "    keras.layers.MaxPooling2D(pool_size=(2, 2)),\n",
        "    # 5th convolution block\n",
        "    keras.layers.Conv2D(512, (3,3), padding='same'),\n",
        "    keras.layers.Activation('relu'),\n",
        "    keras.layers.BatchNormalization(),\n",
        "    keras.layers.Dropout(0.4),\n",
        "    keras.layers.Conv2D(512, (3,3), padding='same'),\n",
        "    keras.layers.Activation('relu'),\n",
        "    keras.layers.BatchNormalization(),\n",
        "    keras.layers.Dropout(0.4),\n",
        "    keras.layers.Conv2D(512, (3,3), padding='same'),\n",
        "    keras.layers.Activation('relu'),\n",
        "    keras.layers.BatchNormalization(),\n",
        "    keras.layers.MaxPooling2D(pool_size=(2, 2)),\n",
        "    # dropout layer\n",
        "    keras.layers.Dropout(0.5),\n",
        "    # flatten layer\n",
        "    keras.layers.Flatten(),\n",
        "    # dense layers\n",
        "    keras.layers.Dense(512, activation='relu'),\n",
        "    keras.layers.Dense(num_of_classes, activation='softmax')\n",
        "])\n",
        "\n",
        "model.summary()"
      ],
      "metadata": {
        "colab": {
          "base_uri": "https://localhost:8080/"
        },
        "id": "rSv-dnIgI7tE",
        "outputId": "16ec7089-6107-4344-cf03-3537bba9ff11"
      },
      "execution_count": 215,
      "outputs": [
        {
          "output_type": "stream",
          "name": "stdout",
          "text": [
            "Model: \"sequential_24\"\n",
            "_________________________________________________________________\n",
            " Layer (type)                Output Shape              Param #   \n",
            "=================================================================\n",
            " conv2d_234 (Conv2D)         (None, 32, 32, 64)        1792      \n",
            "                                                                 \n",
            " activation_199 (Activation  (None, 32, 32, 64)        0         \n",
            " )                                                               \n",
            "                                                                 \n",
            " batch_normalization_166 (B  (None, 32, 32, 64)        256       \n",
            " atchNormalization)                                              \n",
            "                                                                 \n",
            " dropout_120 (Dropout)       (None, 32, 32, 64)        0         \n",
            "                                                                 \n",
            " conv2d_235 (Conv2D)         (None, 32, 32, 64)        36928     \n",
            "                                                                 \n",
            " activation_200 (Activation  (None, 32, 32, 64)        0         \n",
            " )                                                               \n",
            "                                                                 \n",
            " batch_normalization_167 (B  (None, 32, 32, 64)        256       \n",
            " atchNormalization)                                              \n",
            "                                                                 \n",
            " max_pooling2d_89 (MaxPooli  (None, 16, 16, 64)        0         \n",
            " ng2D)                                                           \n",
            "                                                                 \n",
            " conv2d_236 (Conv2D)         (None, 16, 16, 128)       73856     \n",
            "                                                                 \n",
            " activation_201 (Activation  (None, 16, 16, 128)       0         \n",
            " )                                                               \n",
            "                                                                 \n",
            " batch_normalization_168 (B  (None, 16, 16, 128)       512       \n",
            " atchNormalization)                                              \n",
            "                                                                 \n",
            " dropout_121 (Dropout)       (None, 16, 16, 128)       0         \n",
            "                                                                 \n",
            " conv2d_237 (Conv2D)         (None, 16, 16, 128)       147584    \n",
            "                                                                 \n",
            " activation_202 (Activation  (None, 16, 16, 128)       0         \n",
            " )                                                               \n",
            "                                                                 \n",
            " batch_normalization_169 (B  (None, 16, 16, 128)       512       \n",
            " atchNormalization)                                              \n",
            "                                                                 \n",
            " max_pooling2d_90 (MaxPooli  (None, 8, 8, 128)         0         \n",
            " ng2D)                                                           \n",
            "                                                                 \n",
            " conv2d_238 (Conv2D)         (None, 8, 8, 256)         295168    \n",
            "                                                                 \n",
            " activation_203 (Activation  (None, 8, 8, 256)         0         \n",
            " )                                                               \n",
            "                                                                 \n",
            " batch_normalization_170 (B  (None, 8, 8, 256)         1024      \n",
            " atchNormalization)                                              \n",
            "                                                                 \n",
            " dropout_122 (Dropout)       (None, 8, 8, 256)         0         \n",
            "                                                                 \n",
            " conv2d_239 (Conv2D)         (None, 8, 8, 256)         590080    \n",
            "                                                                 \n",
            " activation_204 (Activation  (None, 8, 8, 256)         0         \n",
            " )                                                               \n",
            "                                                                 \n",
            " batch_normalization_171 (B  (None, 8, 8, 256)         1024      \n",
            " atchNormalization)                                              \n",
            "                                                                 \n",
            " dropout_123 (Dropout)       (None, 8, 8, 256)         0         \n",
            "                                                                 \n",
            " conv2d_240 (Conv2D)         (None, 8, 8, 256)         590080    \n",
            "                                                                 \n",
            " activation_205 (Activation  (None, 8, 8, 256)         0         \n",
            " )                                                               \n",
            "                                                                 \n",
            " batch_normalization_172 (B  (None, 8, 8, 256)         1024      \n",
            " atchNormalization)                                              \n",
            "                                                                 \n",
            " max_pooling2d_91 (MaxPooli  (None, 4, 4, 256)         0         \n",
            " ng2D)                                                           \n",
            "                                                                 \n",
            " conv2d_241 (Conv2D)         (None, 4, 4, 512)         1180160   \n",
            "                                                                 \n",
            " activation_206 (Activation  (None, 4, 4, 512)         0         \n",
            " )                                                               \n",
            "                                                                 \n",
            " batch_normalization_173 (B  (None, 4, 4, 512)         2048      \n",
            " atchNormalization)                                              \n",
            "                                                                 \n",
            " dropout_124 (Dropout)       (None, 4, 4, 512)         0         \n",
            "                                                                 \n",
            " conv2d_242 (Conv2D)         (None, 4, 4, 512)         2359808   \n",
            "                                                                 \n",
            " activation_207 (Activation  (None, 4, 4, 512)         0         \n",
            " )                                                               \n",
            "                                                                 \n",
            " batch_normalization_174 (B  (None, 4, 4, 512)         2048      \n",
            " atchNormalization)                                              \n",
            "                                                                 \n",
            " dropout_125 (Dropout)       (None, 4, 4, 512)         0         \n",
            "                                                                 \n",
            " conv2d_243 (Conv2D)         (None, 4, 4, 512)         2359808   \n",
            "                                                                 \n",
            " activation_208 (Activation  (None, 4, 4, 512)         0         \n",
            " )                                                               \n",
            "                                                                 \n",
            " batch_normalization_175 (B  (None, 4, 4, 512)         2048      \n",
            " atchNormalization)                                              \n",
            "                                                                 \n",
            " max_pooling2d_92 (MaxPooli  (None, 2, 2, 512)         0         \n",
            " ng2D)                                                           \n",
            "                                                                 \n",
            " conv2d_244 (Conv2D)         (None, 2, 2, 512)         2359808   \n",
            "                                                                 \n",
            " activation_209 (Activation  (None, 2, 2, 512)         0         \n",
            " )                                                               \n",
            "                                                                 \n",
            " batch_normalization_176 (B  (None, 2, 2, 512)         2048      \n",
            " atchNormalization)                                              \n",
            "                                                                 \n",
            " dropout_126 (Dropout)       (None, 2, 2, 512)         0         \n",
            "                                                                 \n",
            " conv2d_245 (Conv2D)         (None, 2, 2, 512)         2359808   \n",
            "                                                                 \n",
            " activation_210 (Activation  (None, 2, 2, 512)         0         \n",
            " )                                                               \n",
            "                                                                 \n",
            " batch_normalization_177 (B  (None, 2, 2, 512)         2048      \n",
            " atchNormalization)                                              \n",
            "                                                                 \n",
            " dropout_127 (Dropout)       (None, 2, 2, 512)         0         \n",
            "                                                                 \n",
            " conv2d_246 (Conv2D)         (None, 2, 2, 512)         2359808   \n",
            "                                                                 \n",
            " activation_211 (Activation  (None, 2, 2, 512)         0         \n",
            " )                                                               \n",
            "                                                                 \n",
            " batch_normalization_178 (B  (None, 2, 2, 512)         2048      \n",
            " atchNormalization)                                              \n",
            "                                                                 \n",
            " max_pooling2d_93 (MaxPooli  (None, 1, 1, 512)         0         \n",
            " ng2D)                                                           \n",
            "                                                                 \n",
            " dropout_128 (Dropout)       (None, 1, 1, 512)         0         \n",
            "                                                                 \n",
            " flatten_18 (Flatten)        (None, 512)               0         \n",
            "                                                                 \n",
            " dense_40 (Dense)            (None, 512)               262656    \n",
            "                                                                 \n",
            " dense_41 (Dense)            (None, 10)                5130      \n",
            "                                                                 \n",
            "=================================================================\n",
            "Total params: 14999370 (57.22 MB)\n",
            "Trainable params: 14990922 (57.19 MB)\n",
            "Non-trainable params: 8448 (33.00 KB)\n",
            "_________________________________________________________________\n"
          ]
        }
      ]
    },
    {
      "cell_type": "code",
      "source": [
        "# compile the neural network\n",
        "model.compile(optimizer='adam',\n",
        "              loss='sparse_categorical_crossentropy',\n",
        "              metrics=['accuracy'])"
      ],
      "metadata": {
        "id": "N_3Em_37I-nI"
      },
      "execution_count": 216,
      "outputs": []
    },
    {
      "cell_type": "code",
      "source": [
        "# train the neural network\n",
        "model.fit(X_train_scaled, Y_train, validation_split=0.1, epochs=20)"
      ],
      "metadata": {
        "colab": {
          "base_uri": "https://localhost:8080/"
        },
        "id": "RkrVTQ33I-xQ",
        "outputId": "421626b3-7bbc-420f-8eac-39f73c7da86b"
      },
      "execution_count": 217,
      "outputs": [
        {
          "output_type": "stream",
          "name": "stdout",
          "text": [
            "Epoch 1/20\n",
            "1125/1125 [==============================] - 48s 36ms/step - loss: 1.8890 - accuracy: 0.3038 - val_loss: 1.8779 - val_accuracy: 0.3540\n",
            "Epoch 2/20\n",
            "1125/1125 [==============================] - 40s 36ms/step - loss: 1.3893 - accuracy: 0.4909 - val_loss: 1.4163 - val_accuracy: 0.5215\n",
            "Epoch 3/20\n",
            "1125/1125 [==============================] - 40s 36ms/step - loss: 1.1439 - accuracy: 0.5957 - val_loss: 1.1856 - val_accuracy: 0.5957\n",
            "Epoch 4/20\n",
            "1125/1125 [==============================] - 40s 36ms/step - loss: 1.0050 - accuracy: 0.6520 - val_loss: 0.9962 - val_accuracy: 0.6678\n",
            "Epoch 5/20\n",
            "1125/1125 [==============================] - 41s 36ms/step - loss: 0.8961 - accuracy: 0.6976 - val_loss: 1.3885 - val_accuracy: 0.5845\n",
            "Epoch 6/20\n",
            "1125/1125 [==============================] - 40s 36ms/step - loss: 0.8126 - accuracy: 0.7274 - val_loss: 0.8860 - val_accuracy: 0.7180\n",
            "Epoch 7/20\n",
            "1125/1125 [==============================] - 42s 38ms/step - loss: 0.7349 - accuracy: 0.7552 - val_loss: 0.8358 - val_accuracy: 0.7260\n",
            "Epoch 8/20\n",
            "1125/1125 [==============================] - 43s 39ms/step - loss: 0.6770 - accuracy: 0.7767 - val_loss: 0.7116 - val_accuracy: 0.7722\n",
            "Epoch 9/20\n",
            "1125/1125 [==============================] - 40s 36ms/step - loss: 0.6195 - accuracy: 0.7933 - val_loss: 0.7226 - val_accuracy: 0.7725\n",
            "Epoch 10/20\n",
            "1125/1125 [==============================] - 44s 39ms/step - loss: 0.5699 - accuracy: 0.8138 - val_loss: 0.7250 - val_accuracy: 0.7692\n",
            "Epoch 11/20\n",
            "1125/1125 [==============================] - 40s 36ms/step - loss: 0.5193 - accuracy: 0.8285 - val_loss: 0.7019 - val_accuracy: 0.7772\n",
            "Epoch 12/20\n",
            "1125/1125 [==============================] - 40s 36ms/step - loss: 0.4833 - accuracy: 0.8396 - val_loss: 0.6346 - val_accuracy: 0.7985\n",
            "Epoch 13/20\n",
            "1125/1125 [==============================] - 40s 36ms/step - loss: 0.4418 - accuracy: 0.8527 - val_loss: 0.5720 - val_accuracy: 0.8230\n",
            "Epoch 14/20\n",
            "1125/1125 [==============================] - 40s 36ms/step - loss: 0.4064 - accuracy: 0.8666 - val_loss: 0.6610 - val_accuracy: 0.7945\n",
            "Epoch 15/20\n",
            "1125/1125 [==============================] - 40s 36ms/step - loss: 0.3852 - accuracy: 0.8706 - val_loss: 0.5574 - val_accuracy: 0.8275\n",
            "Epoch 16/20\n",
            "1125/1125 [==============================] - 40s 36ms/step - loss: 0.3541 - accuracy: 0.8824 - val_loss: 0.5271 - val_accuracy: 0.8338\n",
            "Epoch 17/20\n",
            "1125/1125 [==============================] - 40s 36ms/step - loss: 0.3276 - accuracy: 0.8928 - val_loss: 0.5645 - val_accuracy: 0.8303\n",
            "Epoch 18/20\n",
            "1125/1125 [==============================] - 41s 36ms/step - loss: 0.3023 - accuracy: 0.8994 - val_loss: 0.6251 - val_accuracy: 0.8227\n",
            "Epoch 19/20\n",
            "1125/1125 [==============================] - 40s 36ms/step - loss: 0.2861 - accuracy: 0.9057 - val_loss: 0.6258 - val_accuracy: 0.8245\n",
            "Epoch 20/20\n",
            "1125/1125 [==============================] - 41s 36ms/step - loss: 0.2721 - accuracy: 0.9110 - val_loss: 0.5401 - val_accuracy: 0.8422\n"
          ]
        },
        {
          "output_type": "execute_result",
          "data": {
            "text/plain": [
              "<keras.src.callbacks.History at 0x7d06f5229e70>"
            ]
          },
          "metadata": {},
          "execution_count": 217
        }
      ]
    },
    {
      "cell_type": "code",
      "source": [
        "# testing accuracy\n",
        "loss, accuracy = model.evaluate(X_test_scaled, Y_test)\n",
        "print('Test Accuracy =', accuracy)"
      ],
      "metadata": {
        "colab": {
          "base_uri": "https://localhost:8080/"
        },
        "id": "mKhHakJF8DfJ",
        "outputId": "ef19389e-66d7-4ee4-9945-cfcba864b0f2"
      },
      "execution_count": 218,
      "outputs": [
        {
          "output_type": "stream",
          "name": "stdout",
          "text": [
            "313/313 [==============================] - 4s 10ms/step - loss: 0.5456 - accuracy: 0.8402\n",
            "Test Accuracy = 0.8402000069618225\n"
          ]
        }
      ]
    }
  ]
}